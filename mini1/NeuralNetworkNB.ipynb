{
 "cells": [
  {
   "cell_type": "code",
   "execution_count": 10,
   "metadata": {},
   "outputs": [],
   "source": [
    "import numpy as np \n",
    "import tensorflow as tf \n",
    "\n",
    "import keras\n",
    "from sklearn.model_selection import KFold\n",
    "from sklearn.linear_model import Lasso\n",
    "\n",
    "from keras.models import Sequential\n",
    "from keras.layers.core import Dense, Activation, Flatten, Dropout\n",
    "from keras.datasets import mnist\n",
    "from sklearn.model_selection import train_test_split\n",
    "\n"
   ]
  },
  {
   "cell_type": "code",
   "execution_count": 2,
   "metadata": {},
   "outputs": [],
   "source": [
    "def load_data(filename, skiprows = 1):\n",
    "    \"\"\"\n",
    "    Function loads data stored in the file filename and returns it as a numpy ndarray.\n",
    "    \n",
    "    Inputs:\n",
    "        filename: given as a string.\n",
    "        \n",
    "    Outputs:\n",
    "        Data contained in the file, returned as a numpy ndarray\n",
    "    \"\"\"\n",
    "    return np.loadtxt(filename, skiprows=skiprows, delimiter=' ')"
   ]
  },
  {
   "cell_type": "markdown",
   "metadata": {},
   "source": [
    "# Preprocessing Stuff"
   ]
  },
  {
   "cell_type": "code",
   "execution_count": 3,
   "metadata": {},
   "outputs": [],
   "source": [
    "training_data = np.array(load_data(\"training_data.txt\", skiprows = 1))"
   ]
  },
  {
   "cell_type": "code",
   "execution_count": 4,
   "metadata": {},
   "outputs": [],
   "source": [
    "y_train = training_data[:, 0]\n",
    "X_train = training_data[:, 1:]"
   ]
  },
  {
   "cell_type": "code",
   "execution_count": 5,
   "metadata": {},
   "outputs": [],
   "source": [
    "X_test = np.array(load_data(\"test_data.txt\"))"
   ]
  },
  {
   "cell_type": "code",
   "execution_count": 6,
   "metadata": {},
   "outputs": [
    {
     "data": {
      "text/plain": [
       "22.0"
      ]
     },
     "execution_count": 6,
     "metadata": {},
     "output_type": "execute_result"
    }
   ],
   "source": [
    "X_train.max()"
   ]
  },
  {
   "cell_type": "code",
   "execution_count": 7,
   "metadata": {},
   "outputs": [],
   "source": [
    "y_train_net = keras.utils.to_categorical(y_train, num_classes=2)"
   ]
  },
  {
   "cell_type": "code",
   "execution_count": 57,
   "metadata": {},
   "outputs": [],
   "source": [
    "X_training, X_testing, y_training, y_testing = train_test_split(X_train, y_train, test_size=0.1, shuffle = True)"
   ]
  },
  {
   "cell_type": "code",
   "execution_count": 58,
   "metadata": {},
   "outputs": [],
   "source": [
    "y_training_net = keras.utils.to_categorical(y_training, num_classes=2)\n",
    "y_testing_net = keras.utils.to_categorical(y_testing, num_classes=2)"
   ]
  },
  {
   "cell_type": "code",
   "execution_count": 62,
   "metadata": {},
   "outputs": [],
   "source": [
    "#Fitting Values\n",
    "model = Sequential()\n",
    "model.add(Dense(80, input_shape=(1000,)))\n",
    "model.add(Activation('sigmoid'))\n",
    "model.add(Dropout(.4))\n",
    "model.add(Dense(20, input_shape=(80,)))\n",
    "model.add(Activation('sigmoid'))\n",
    "model.add(Dropout(.4))\n",
    "model.add(Dense(2))\n",
    "model.add(Activation('softmax'))\n",
    "model.compile(loss='categorical_crossentropy',optimizer='adam', metrics=['accuracy'])"
   ]
  },
  {
   "cell_type": "code",
   "execution_count": null,
   "metadata": {},
   "outputs": [
    {
     "name": "stdout",
     "output_type": "stream",
     "text": [
      "Epoch 1/25\n",
      "18000/18000 [==============================] - 2s 105us/step - loss: 0.6854 - acc: 0.5832\n",
      "Epoch 2/25\n",
      "18000/18000 [==============================] - 1s 38us/step - loss: 0.5329 - acc: 0.7392\n",
      "Epoch 3/25\n",
      " 5504/18000 [========>.....................] - ETA: 0s - loss: 0.4443 - acc: 0.8009"
     ]
    }
   ],
   "source": [
    "model.fit(X_training, y_training_net, batch_size=128, epochs=25, verbose=1)"
   ]
  },
  {
   "cell_type": "code",
   "execution_count": null,
   "metadata": {},
   "outputs": [],
   "source": [
    "model.evaluate(X_testing, y_testing_net)"
   ]
  },
  {
   "cell_type": "code",
   "execution_count": null,
   "metadata": {},
   "outputs": [],
   "source": []
  },
  {
   "cell_type": "code",
   "execution_count": null,
   "metadata": {},
   "outputs": [],
   "source": []
  },
  {
   "cell_type": "code",
   "execution_count": null,
   "metadata": {},
   "outputs": [],
   "source": []
  },
  {
   "cell_type": "code",
   "execution_count": null,
   "metadata": {},
   "outputs": [],
   "source": []
  },
  {
   "cell_type": "markdown",
   "metadata": {},
   "source": [
    "# Running A Neural Network on the Slimmed Dataset"
   ]
  },
  {
   "cell_type": "code",
   "execution_count": 10,
   "metadata": {},
   "outputs": [
    {
     "name": "stdout",
     "output_type": "stream",
     "text": [
      "16666/16666 [==============================] - 1s 46us/step\n",
      "3334/3334 [==============================] - 0s 41us/step\n",
      "1.0\n"
     ]
    },
    {
     "ename": "KeyboardInterrupt",
     "evalue": "",
     "output_type": "error",
     "traceback": [
      "\u001b[0;31m---------------------------------------------------------------------------\u001b[0m",
      "\u001b[0;31mKeyboardInterrupt\u001b[0m                         Traceback (most recent call last)",
      "\u001b[0;32m<ipython-input-10-f4d1450d71fd>\u001b[0m in \u001b[0;36m<module>\u001b[0;34m()\u001b[0m\n\u001b[1;32m     24\u001b[0m \u001b[0;34m\u001b[0m\u001b[0m\n\u001b[1;32m     25\u001b[0m \u001b[0;34m\u001b[0m\u001b[0m\n\u001b[0;32m---> 26\u001b[0;31m     \u001b[0mfit\u001b[0m \u001b[0;34m=\u001b[0m \u001b[0mmodel\u001b[0m\u001b[0;34m.\u001b[0m\u001b[0mfit\u001b[0m\u001b[0;34m(\u001b[0m\u001b[0mX_training\u001b[0m\u001b[0;34m,\u001b[0m \u001b[0my_train_net\u001b[0m\u001b[0;34m,\u001b[0m \u001b[0mbatch_size\u001b[0m\u001b[0;34m=\u001b[0m\u001b[0;36m128\u001b[0m\u001b[0;34m,\u001b[0m \u001b[0mepochs\u001b[0m\u001b[0;34m=\u001b[0m\u001b[0;36m50\u001b[0m\u001b[0;34m,\u001b[0m \u001b[0mverbose\u001b[0m\u001b[0;34m=\u001b[0m\u001b[0;36m0\u001b[0m\u001b[0;34m)\u001b[0m\u001b[0;34m\u001b[0m\u001b[0m\n\u001b[0m\u001b[1;32m     27\u001b[0m \u001b[0;34m\u001b[0m\u001b[0m\n\u001b[1;32m     28\u001b[0m     \u001b[0;31m#Finding training error\u001b[0m\u001b[0;34m\u001b[0m\u001b[0;34m\u001b[0m\u001b[0m\n",
      "\u001b[0;32m~/anaconda3/envs/tensorflow/lib/python3.6/site-packages/keras/models.py\u001b[0m in \u001b[0;36mfit\u001b[0;34m(self, x, y, batch_size, epochs, verbose, callbacks, validation_split, validation_data, shuffle, class_weight, sample_weight, initial_epoch, steps_per_epoch, validation_steps, **kwargs)\u001b[0m\n\u001b[1;32m    963\u001b[0m                               \u001b[0minitial_epoch\u001b[0m\u001b[0;34m=\u001b[0m\u001b[0minitial_epoch\u001b[0m\u001b[0;34m,\u001b[0m\u001b[0;34m\u001b[0m\u001b[0m\n\u001b[1;32m    964\u001b[0m                               \u001b[0msteps_per_epoch\u001b[0m\u001b[0;34m=\u001b[0m\u001b[0msteps_per_epoch\u001b[0m\u001b[0;34m,\u001b[0m\u001b[0;34m\u001b[0m\u001b[0m\n\u001b[0;32m--> 965\u001b[0;31m                               validation_steps=validation_steps)\n\u001b[0m\u001b[1;32m    966\u001b[0m \u001b[0;34m\u001b[0m\u001b[0m\n\u001b[1;32m    967\u001b[0m     def evaluate(self, x=None, y=None,\n",
      "\u001b[0;32m~/anaconda3/envs/tensorflow/lib/python3.6/site-packages/keras/engine/training.py\u001b[0m in \u001b[0;36mfit\u001b[0;34m(self, x, y, batch_size, epochs, verbose, callbacks, validation_split, validation_data, shuffle, class_weight, sample_weight, initial_epoch, steps_per_epoch, validation_steps, **kwargs)\u001b[0m\n\u001b[1;32m   1667\u001b[0m                               \u001b[0minitial_epoch\u001b[0m\u001b[0;34m=\u001b[0m\u001b[0minitial_epoch\u001b[0m\u001b[0;34m,\u001b[0m\u001b[0;34m\u001b[0m\u001b[0m\n\u001b[1;32m   1668\u001b[0m                               \u001b[0msteps_per_epoch\u001b[0m\u001b[0;34m=\u001b[0m\u001b[0msteps_per_epoch\u001b[0m\u001b[0;34m,\u001b[0m\u001b[0;34m\u001b[0m\u001b[0m\n\u001b[0;32m-> 1669\u001b[0;31m                               validation_steps=validation_steps)\n\u001b[0m\u001b[1;32m   1670\u001b[0m \u001b[0;34m\u001b[0m\u001b[0m\n\u001b[1;32m   1671\u001b[0m     def evaluate(self, x=None, y=None,\n",
      "\u001b[0;32m~/anaconda3/envs/tensorflow/lib/python3.6/site-packages/keras/engine/training.py\u001b[0m in \u001b[0;36m_fit_loop\u001b[0;34m(self, f, ins, out_labels, batch_size, epochs, verbose, callbacks, val_f, val_ins, shuffle, callback_metrics, initial_epoch, steps_per_epoch, validation_steps)\u001b[0m\n\u001b[1;32m   1204\u001b[0m                         \u001b[0mins_batch\u001b[0m\u001b[0;34m[\u001b[0m\u001b[0mi\u001b[0m\u001b[0;34m]\u001b[0m \u001b[0;34m=\u001b[0m \u001b[0mins_batch\u001b[0m\u001b[0;34m[\u001b[0m\u001b[0mi\u001b[0m\u001b[0;34m]\u001b[0m\u001b[0;34m.\u001b[0m\u001b[0mtoarray\u001b[0m\u001b[0;34m(\u001b[0m\u001b[0;34m)\u001b[0m\u001b[0;34m\u001b[0m\u001b[0m\n\u001b[1;32m   1205\u001b[0m \u001b[0;34m\u001b[0m\u001b[0m\n\u001b[0;32m-> 1206\u001b[0;31m                     \u001b[0mouts\u001b[0m \u001b[0;34m=\u001b[0m \u001b[0mf\u001b[0m\u001b[0;34m(\u001b[0m\u001b[0mins_batch\u001b[0m\u001b[0;34m)\u001b[0m\u001b[0;34m\u001b[0m\u001b[0m\n\u001b[0m\u001b[1;32m   1207\u001b[0m                     \u001b[0;32mif\u001b[0m \u001b[0;32mnot\u001b[0m \u001b[0misinstance\u001b[0m\u001b[0;34m(\u001b[0m\u001b[0mouts\u001b[0m\u001b[0;34m,\u001b[0m \u001b[0mlist\u001b[0m\u001b[0;34m)\u001b[0m\u001b[0;34m:\u001b[0m\u001b[0;34m\u001b[0m\u001b[0m\n\u001b[1;32m   1208\u001b[0m                         \u001b[0mouts\u001b[0m \u001b[0;34m=\u001b[0m \u001b[0;34m[\u001b[0m\u001b[0mouts\u001b[0m\u001b[0;34m]\u001b[0m\u001b[0;34m\u001b[0m\u001b[0m\n",
      "\u001b[0;32m~/anaconda3/envs/tensorflow/lib/python3.6/site-packages/keras/backend/tensorflow_backend.py\u001b[0m in \u001b[0;36m__call__\u001b[0;34m(self, inputs)\u001b[0m\n\u001b[1;32m   2473\u001b[0m         \u001b[0msession\u001b[0m \u001b[0;34m=\u001b[0m \u001b[0mget_session\u001b[0m\u001b[0;34m(\u001b[0m\u001b[0;34m)\u001b[0m\u001b[0;34m\u001b[0m\u001b[0m\n\u001b[1;32m   2474\u001b[0m         updated = session.run(fetches=fetches, feed_dict=feed_dict,\n\u001b[0;32m-> 2475\u001b[0;31m                               **self.session_kwargs)\n\u001b[0m\u001b[1;32m   2476\u001b[0m         \u001b[0;32mreturn\u001b[0m \u001b[0mupdated\u001b[0m\u001b[0;34m[\u001b[0m\u001b[0;34m:\u001b[0m\u001b[0mlen\u001b[0m\u001b[0;34m(\u001b[0m\u001b[0mself\u001b[0m\u001b[0;34m.\u001b[0m\u001b[0moutputs\u001b[0m\u001b[0;34m)\u001b[0m\u001b[0;34m]\u001b[0m\u001b[0;34m\u001b[0m\u001b[0m\n\u001b[1;32m   2477\u001b[0m \u001b[0;34m\u001b[0m\u001b[0m\n",
      "\u001b[0;32m~/anaconda3/envs/tensorflow/lib/python3.6/site-packages/tensorflow/python/client/session.py\u001b[0m in \u001b[0;36mrun\u001b[0;34m(self, fetches, feed_dict, options, run_metadata)\u001b[0m\n\u001b[1;32m    893\u001b[0m     \u001b[0;32mtry\u001b[0m\u001b[0;34m:\u001b[0m\u001b[0;34m\u001b[0m\u001b[0m\n\u001b[1;32m    894\u001b[0m       result = self._run(None, fetches, feed_dict, options_ptr,\n\u001b[0;32m--> 895\u001b[0;31m                          run_metadata_ptr)\n\u001b[0m\u001b[1;32m    896\u001b[0m       \u001b[0;32mif\u001b[0m \u001b[0mrun_metadata\u001b[0m\u001b[0;34m:\u001b[0m\u001b[0;34m\u001b[0m\u001b[0m\n\u001b[1;32m    897\u001b[0m         \u001b[0mproto_data\u001b[0m \u001b[0;34m=\u001b[0m \u001b[0mtf_session\u001b[0m\u001b[0;34m.\u001b[0m\u001b[0mTF_GetBuffer\u001b[0m\u001b[0;34m(\u001b[0m\u001b[0mrun_metadata_ptr\u001b[0m\u001b[0;34m)\u001b[0m\u001b[0;34m\u001b[0m\u001b[0m\n",
      "\u001b[0;32m~/anaconda3/envs/tensorflow/lib/python3.6/site-packages/tensorflow/python/client/session.py\u001b[0m in \u001b[0;36m_run\u001b[0;34m(self, handle, fetches, feed_dict, options, run_metadata)\u001b[0m\n\u001b[1;32m   1126\u001b[0m     \u001b[0;32mif\u001b[0m \u001b[0mfinal_fetches\u001b[0m \u001b[0;32mor\u001b[0m \u001b[0mfinal_targets\u001b[0m \u001b[0;32mor\u001b[0m \u001b[0;34m(\u001b[0m\u001b[0mhandle\u001b[0m \u001b[0;32mand\u001b[0m \u001b[0mfeed_dict_tensor\u001b[0m\u001b[0;34m)\u001b[0m\u001b[0;34m:\u001b[0m\u001b[0;34m\u001b[0m\u001b[0m\n\u001b[1;32m   1127\u001b[0m       results = self._do_run(handle, final_targets, final_fetches,\n\u001b[0;32m-> 1128\u001b[0;31m                              feed_dict_tensor, options, run_metadata)\n\u001b[0m\u001b[1;32m   1129\u001b[0m     \u001b[0;32melse\u001b[0m\u001b[0;34m:\u001b[0m\u001b[0;34m\u001b[0m\u001b[0m\n\u001b[1;32m   1130\u001b[0m       \u001b[0mresults\u001b[0m \u001b[0;34m=\u001b[0m \u001b[0;34m[\u001b[0m\u001b[0;34m]\u001b[0m\u001b[0;34m\u001b[0m\u001b[0m\n",
      "\u001b[0;32m~/anaconda3/envs/tensorflow/lib/python3.6/site-packages/tensorflow/python/client/session.py\u001b[0m in \u001b[0;36m_do_run\u001b[0;34m(self, handle, target_list, fetch_list, feed_dict, options, run_metadata)\u001b[0m\n\u001b[1;32m   1342\u001b[0m     \u001b[0;32mif\u001b[0m \u001b[0mhandle\u001b[0m \u001b[0;32mis\u001b[0m \u001b[0;32mNone\u001b[0m\u001b[0;34m:\u001b[0m\u001b[0;34m\u001b[0m\u001b[0m\n\u001b[1;32m   1343\u001b[0m       return self._do_call(_run_fn, self._session, feeds, fetches, targets,\n\u001b[0;32m-> 1344\u001b[0;31m                            options, run_metadata)\n\u001b[0m\u001b[1;32m   1345\u001b[0m     \u001b[0;32melse\u001b[0m\u001b[0;34m:\u001b[0m\u001b[0;34m\u001b[0m\u001b[0m\n\u001b[1;32m   1346\u001b[0m       \u001b[0;32mreturn\u001b[0m \u001b[0mself\u001b[0m\u001b[0;34m.\u001b[0m\u001b[0m_do_call\u001b[0m\u001b[0;34m(\u001b[0m\u001b[0m_prun_fn\u001b[0m\u001b[0;34m,\u001b[0m \u001b[0mself\u001b[0m\u001b[0;34m.\u001b[0m\u001b[0m_session\u001b[0m\u001b[0;34m,\u001b[0m \u001b[0mhandle\u001b[0m\u001b[0;34m,\u001b[0m \u001b[0mfeeds\u001b[0m\u001b[0;34m,\u001b[0m \u001b[0mfetches\u001b[0m\u001b[0;34m)\u001b[0m\u001b[0;34m\u001b[0m\u001b[0m\n",
      "\u001b[0;32m~/anaconda3/envs/tensorflow/lib/python3.6/site-packages/tensorflow/python/client/session.py\u001b[0m in \u001b[0;36m_do_call\u001b[0;34m(self, fn, *args)\u001b[0m\n\u001b[1;32m   1348\u001b[0m   \u001b[0;32mdef\u001b[0m \u001b[0m_do_call\u001b[0m\u001b[0;34m(\u001b[0m\u001b[0mself\u001b[0m\u001b[0;34m,\u001b[0m \u001b[0mfn\u001b[0m\u001b[0;34m,\u001b[0m \u001b[0;34m*\u001b[0m\u001b[0margs\u001b[0m\u001b[0;34m)\u001b[0m\u001b[0;34m:\u001b[0m\u001b[0;34m\u001b[0m\u001b[0m\n\u001b[1;32m   1349\u001b[0m     \u001b[0;32mtry\u001b[0m\u001b[0;34m:\u001b[0m\u001b[0;34m\u001b[0m\u001b[0m\n\u001b[0;32m-> 1350\u001b[0;31m       \u001b[0;32mreturn\u001b[0m \u001b[0mfn\u001b[0m\u001b[0;34m(\u001b[0m\u001b[0;34m*\u001b[0m\u001b[0margs\u001b[0m\u001b[0;34m)\u001b[0m\u001b[0;34m\u001b[0m\u001b[0m\n\u001b[0m\u001b[1;32m   1351\u001b[0m     \u001b[0;32mexcept\u001b[0m \u001b[0merrors\u001b[0m\u001b[0;34m.\u001b[0m\u001b[0mOpError\u001b[0m \u001b[0;32mas\u001b[0m \u001b[0me\u001b[0m\u001b[0;34m:\u001b[0m\u001b[0;34m\u001b[0m\u001b[0m\n\u001b[1;32m   1352\u001b[0m       \u001b[0mmessage\u001b[0m \u001b[0;34m=\u001b[0m \u001b[0mcompat\u001b[0m\u001b[0;34m.\u001b[0m\u001b[0mas_text\u001b[0m\u001b[0;34m(\u001b[0m\u001b[0me\u001b[0m\u001b[0;34m.\u001b[0m\u001b[0mmessage\u001b[0m\u001b[0;34m)\u001b[0m\u001b[0;34m\u001b[0m\u001b[0m\n",
      "\u001b[0;32m~/anaconda3/envs/tensorflow/lib/python3.6/site-packages/tensorflow/python/client/session.py\u001b[0m in \u001b[0;36m_run_fn\u001b[0;34m(session, feed_dict, fetch_list, target_list, options, run_metadata)\u001b[0m\n\u001b[1;32m   1327\u001b[0m           return tf_session.TF_Run(session, options,\n\u001b[1;32m   1328\u001b[0m                                    \u001b[0mfeed_dict\u001b[0m\u001b[0;34m,\u001b[0m \u001b[0mfetch_list\u001b[0m\u001b[0;34m,\u001b[0m \u001b[0mtarget_list\u001b[0m\u001b[0;34m,\u001b[0m\u001b[0;34m\u001b[0m\u001b[0m\n\u001b[0;32m-> 1329\u001b[0;31m                                    status, run_metadata)\n\u001b[0m\u001b[1;32m   1330\u001b[0m \u001b[0;34m\u001b[0m\u001b[0m\n\u001b[1;32m   1331\u001b[0m     \u001b[0;32mdef\u001b[0m \u001b[0m_prun_fn\u001b[0m\u001b[0;34m(\u001b[0m\u001b[0msession\u001b[0m\u001b[0;34m,\u001b[0m \u001b[0mhandle\u001b[0m\u001b[0;34m,\u001b[0m \u001b[0mfeed_dict\u001b[0m\u001b[0;34m,\u001b[0m \u001b[0mfetch_list\u001b[0m\u001b[0;34m)\u001b[0m\u001b[0;34m:\u001b[0m\u001b[0;34m\u001b[0m\u001b[0m\n",
      "\u001b[0;31mKeyboardInterrupt\u001b[0m: "
     ]
    }
   ],
   "source": [
    "\n",
    "    model = Sequential()\n",
    "    model.add(Dense(10, input_shape=(len(X_slim[0]),)))\n",
    "    model.add(Activation('sigmoid'))\n",
    "    model.add(Dropout(.2))\n",
    "    model.add(Dense(2))\n",
    "    model.add(Activation('softmax'))\n",
    "    model.compile(loss='categorical_crossentropy',optimizer='adam', metrics=['accuracy'])\n",
    "    \n",
    "    #Partitioning dataset using index set\n",
    "    X_training = X_slim[train_index]\n",
    "    y_training = y_train[train_index]\n",
    "    y_train_net = keras.utils.to_categorical(y_training, num_classes=2)\n",
    "    X_testing = X_slim[test_index]\n",
    "    y_testing = y_train[test_index]\n",
    "    y_test_net = keras.utils.to_categorical(y_testing, num_classes=2)\n",
    "\n",
    "\n",
    "    fit = model.fit(X_training, y_train_net, batch_size=128, epochs=50, verbose=0)\n",
    "\n",
    "    #Finding training error \n",
    "    training_error.append(model.evaluate(X_training, y_train_net)[1])\n",
    "\n",
    "    #Finding validation error\n",
    "    val_err = model.evaluate(X_testing, y_test_net)[1]\n",
    "    validation_error.append(val_err)\n",
    "    print(val_err)"
   ]
  },
  {
   "cell_type": "markdown",
   "metadata": {},
   "source": [
    "# Neural Network on Real Dataset"
   ]
  },
  {
   "cell_type": "code",
   "execution_count": null,
   "metadata": {
    "collapsed": true
   },
   "outputs": [],
   "source": [
    "# Neural Network with Xtrain\n",
    "kf = KFold(n_splits=6, shuffle = True)\n",
    "\n",
    "\n",
    "training_error = []\n",
    "validation_error = []\n",
    "for train_index, test_index in kf.split(X_train):\n",
    "    model = Sequential()\n",
    "    model.add(Dense(10, input_shape=(1000,)))\n",
    "    model.add(Activation('sigmoid'))\n",
    "    model.add(Dropout(.2))\n",
    "    model.add(Dense(2))\n",
    "    model.add(Activation('softmax'))\n",
    "    model.compile(loss='categorical_crossentropy',optimizer='adam', metrics=['accuracy'])\n",
    "    #Partitioning dataset using index set\n",
    "    X_training = X_train[train_index]\n",
    "    y_training = y_train[train_index]\n",
    "    y_train_net = keras.utils.to_categorical(y_training, num_classes=2)\n",
    "    X_testing = X_train[test_index]\n",
    "    y_testing = y_train[test_index]\n",
    "    y_test_net = keras.utils.to_categorical(y_testing, num_classes=2)\n",
    "\n",
    "\n",
    "    fit = model.fit(X_training, y_train_net, batch_size=128, nb_epoch=50, verbose=0)\n",
    "\n",
    "    #Finding training error \n",
    "    training_error.append(model.evaluate(X_training, y_train_net)[1])\n",
    "\n",
    "    #Finding validation error\n",
    "    val_err = model.evaluate(X_testing, y_test_net)[1]\n",
    "    validation_error.append(val_err)\n",
    "    print(val_err)\n",
    "    "
   ]
  },
  {
   "cell_type": "code",
   "execution_count": 24,
   "metadata": {
    "collapsed": true
   },
   "outputs": [],
   "source": [
    "y_train_net = keras.utils.to_categorical(y_train, num_classes=2)"
   ]
  },
  {
   "cell_type": "markdown",
   "metadata": {},
   "source": [
    "# Single Neural Network Run for Whole Dataset"
   ]
  },
  {
   "cell_type": "code",
   "execution_count": null,
   "metadata": {
    "collapsed": true
   },
   "outputs": [],
   "source": [
    "model = Sequential()\n",
    "model.add(Dense(10, input_shape=(1000,)))\n",
    "model.add(Activation('sigmoid'))\n",
    "model.add(Dropout(.2))\n",
    "model.add(Dense(2))\n",
    "model.add(Activation('softmax'))\n",
    "model.compile(loss='categorical_crossentropy',optimizer='adam', metrics=['accuracy'])"
   ]
  },
  {
   "cell_type": "code",
   "execution_count": null,
   "metadata": {
    "collapsed": true
   },
   "outputs": [],
   "source": [
    "model.compile(loss='mse',optimizer='adam', metrics=['accuracy'])\n",
    "\n",
    "fit = model.fit(X_train, y_train_net, batch_size=128, epochs=10, verbose=1)"
   ]
  },
  {
   "cell_type": "markdown",
   "metadata": {},
   "source": [
    "# Single Neural Network Run for Slimmed Dataset"
   ]
  },
  {
   "cell_type": "code",
   "execution_count": 77,
   "metadata": {
    "collapsed": true
   },
   "outputs": [],
   "source": [
    "#Fitting Values\n",
    "model = Sequential()\n",
    "model.add(Dense(6, input_shape=(698,)))\n",
    "model.add(Activation('sigmoid'))\n",
    "model.add(Dropout(.2))\n",
    "model.add(Dense(2))\n",
    "model.add(Activation('softmax'))\n",
    "model.compile(loss='categorical_crossentropy',optimizer='adam', metrics=['accuracy'])"
   ]
  },
  {
   "cell_type": "code",
   "execution_count": 75,
   "metadata": {},
   "outputs": [
    {
     "name": "stdout",
     "output_type": "stream",
     "text": [
      "Epoch 1/100\n",
      "20000/20000 [==============================] - 2s 81us/step - loss: 0.1441 - acc: 0.7722\n",
      "Epoch 2/100\n",
      "20000/20000 [==============================] - 1s 37us/step - loss: 0.1443 - acc: 0.7726\n",
      "Epoch 3/100\n",
      "20000/20000 [==============================] - 1s 37us/step - loss: 0.1428 - acc: 0.7736\n",
      "Epoch 4/100\n",
      "20000/20000 [==============================] - 1s 40us/step - loss: 0.1449 - acc: 0.7689\n",
      "Epoch 5/100\n",
      "20000/20000 [==============================] - 1s 38us/step - loss: 0.1425 - acc: 0.7732\n",
      "Epoch 6/100\n",
      "20000/20000 [==============================] - 1s 37us/step - loss: 0.1430 - acc: 0.7729\n",
      "Epoch 7/100\n",
      "20000/20000 [==============================] - 1s 39us/step - loss: 0.1441 - acc: 0.7742\n",
      "Epoch 8/100\n",
      "20000/20000 [==============================] - 1s 38us/step - loss: 0.1428 - acc: 0.7721\n",
      "Epoch 9/100\n",
      "20000/20000 [==============================] - 1s 37us/step - loss: 0.1440 - acc: 0.7694\n",
      "Epoch 10/100\n",
      "20000/20000 [==============================] - 1s 39us/step - loss: 0.1444 - acc: 0.7675\n",
      "Epoch 11/100\n",
      "20000/20000 [==============================] - 1s 37us/step - loss: 0.1442 - acc: 0.7718\n",
      "Epoch 12/100\n",
      "20000/20000 [==============================] - 1s 38us/step - loss: 0.1429 - acc: 0.7749\n",
      "Epoch 13/100\n",
      "20000/20000 [==============================] - 1s 38us/step - loss: 0.1449 - acc: 0.7691\n",
      "Epoch 14/100\n",
      "20000/20000 [==============================] - 1s 41us/step - loss: 0.1444 - acc: 0.7712\n",
      "Epoch 15/100\n",
      "20000/20000 [==============================] - 1s 37us/step - loss: 0.1430 - acc: 0.7729\n",
      "Epoch 16/100\n",
      "20000/20000 [==============================] - 1s 51us/step - loss: 0.1427 - acc: 0.7741\n",
      "Epoch 17/100\n",
      "20000/20000 [==============================] - 1s 44us/step - loss: 0.1429 - acc: 0.7724\n",
      "Epoch 18/100\n",
      "20000/20000 [==============================] - 1s 42us/step - loss: 0.1417 - acc: 0.7770\n",
      "Epoch 19/100\n",
      "20000/20000 [==============================] - 1s 40us/step - loss: 0.1425 - acc: 0.7744\n",
      "Epoch 20/100\n",
      "20000/20000 [==============================] - 1s 43us/step - loss: 0.1440 - acc: 0.7705\n",
      "Epoch 21/100\n",
      "20000/20000 [==============================] - 1s 41us/step - loss: 0.1424 - acc: 0.7740\n",
      "Epoch 22/100\n",
      "20000/20000 [==============================] - 1s 42us/step - loss: 0.1438 - acc: 0.7754\n",
      "Epoch 23/100\n",
      "20000/20000 [==============================] - 1s 41us/step - loss: 0.1433 - acc: 0.7738\n",
      "Epoch 24/100\n",
      "20000/20000 [==============================] - 1s 50us/step - loss: 0.1423 - acc: 0.7742\n",
      "Epoch 25/100\n",
      "20000/20000 [==============================] - 1s 45us/step - loss: 0.1427 - acc: 0.7762\n",
      "Epoch 26/100\n",
      "20000/20000 [==============================] - 1s 43us/step - loss: 0.1431 - acc: 0.7726\n",
      "Epoch 27/100\n",
      "20000/20000 [==============================] - 1s 38us/step - loss: 0.1432 - acc: 0.7764\n",
      "Epoch 28/100\n",
      "20000/20000 [==============================] - 1s 37us/step - loss: 0.1412 - acc: 0.7774\n",
      "Epoch 29/100\n",
      "20000/20000 [==============================] - 1s 38us/step - loss: 0.1422 - acc: 0.7736\n",
      "Epoch 30/100\n",
      "20000/20000 [==============================] - 1s 38us/step - loss: 0.1421 - acc: 0.7772\n",
      "Epoch 31/100\n",
      "20000/20000 [==============================] - 1s 43us/step - loss: 0.1420 - acc: 0.7760\n",
      "Epoch 32/100\n",
      "20000/20000 [==============================] - 1s 46us/step - loss: 0.1418 - acc: 0.7765\n",
      "Epoch 33/100\n",
      "20000/20000 [==============================] - 1s 52us/step - loss: 0.1432 - acc: 0.7735\n",
      "Epoch 34/100\n",
      "20000/20000 [==============================] - 1s 57us/step - loss: 0.1421 - acc: 0.7768\n",
      "Epoch 35/100\n",
      "20000/20000 [==============================] - 1s 53us/step - loss: 0.1421 - acc: 0.7738: 0s - loss: 0.1411 - acc: \n",
      "Epoch 36/100\n",
      "20000/20000 [==============================] - 1s 34us/step - loss: 0.1439 - acc: 0.7706\n",
      "Epoch 37/100\n",
      "20000/20000 [==============================] - 1s 33us/step - loss: 0.1427 - acc: 0.7719\n",
      "Epoch 38/100\n",
      "20000/20000 [==============================] - 1s 36us/step - loss: 0.1423 - acc: 0.7711\n",
      "Epoch 39/100\n",
      "20000/20000 [==============================] - 1s 36us/step - loss: 0.1425 - acc: 0.7728\n",
      "Epoch 40/100\n",
      "20000/20000 [==============================] - 1s 33us/step - loss: 0.1415 - acc: 0.7769\n",
      "Epoch 41/100\n",
      "20000/20000 [==============================] - 1s 33us/step - loss: 0.1416 - acc: 0.7768\n",
      "Epoch 42/100\n",
      "20000/20000 [==============================] - 1s 33us/step - loss: 0.1419 - acc: 0.7739\n",
      "Epoch 43/100\n",
      "20000/20000 [==============================] - 1s 40us/step - loss: 0.1437 - acc: 0.7712\n",
      "Epoch 44/100\n",
      "20000/20000 [==============================] - 1s 32us/step - loss: 0.1405 - acc: 0.7756\n",
      "Epoch 45/100\n",
      "20000/20000 [==============================] - 1s 34us/step - loss: 0.1426 - acc: 0.7734\n",
      "Epoch 46/100\n",
      "20000/20000 [==============================] - 1s 35us/step - loss: 0.1430 - acc: 0.7746\n",
      "Epoch 47/100\n",
      "20000/20000 [==============================] - 1s 32us/step - loss: 0.1425 - acc: 0.7732\n",
      "Epoch 48/100\n",
      "20000/20000 [==============================] - 1s 38us/step - loss: 0.1428 - acc: 0.7715\n",
      "Epoch 49/100\n",
      "20000/20000 [==============================] - 1s 36us/step - loss: 0.1429 - acc: 0.7726\n",
      "Epoch 50/100\n",
      "20000/20000 [==============================] - 1s 36us/step - loss: 0.1403 - acc: 0.7762\n",
      "Epoch 51/100\n",
      "20000/20000 [==============================] - 1s 37us/step - loss: 0.1431 - acc: 0.7735\n",
      "Epoch 52/100\n",
      "20000/20000 [==============================] - 1s 36us/step - loss: 0.1431 - acc: 0.7685\n",
      "Epoch 53/100\n",
      "20000/20000 [==============================] - 1s 35us/step - loss: 0.1446 - acc: 0.7680\n",
      "Epoch 54/100\n",
      "20000/20000 [==============================] - 1s 36us/step - loss: 0.1419 - acc: 0.7735\n",
      "Epoch 55/100\n",
      "20000/20000 [==============================] - 1s 33us/step - loss: 0.1417 - acc: 0.7779\n",
      "Epoch 56/100\n",
      "20000/20000 [==============================] - 1s 34us/step - loss: 0.1415 - acc: 0.7773\n",
      "Epoch 57/100\n",
      "20000/20000 [==============================] - 1s 32us/step - loss: 0.1431 - acc: 0.7712\n",
      "Epoch 58/100\n",
      "20000/20000 [==============================] - 1s 32us/step - loss: 0.1408 - acc: 0.7752\n",
      "Epoch 59/100\n",
      "20000/20000 [==============================] - 1s 33us/step - loss: 0.1427 - acc: 0.7726\n",
      "Epoch 60/100\n",
      "20000/20000 [==============================] - 1s 32us/step - loss: 0.1427 - acc: 0.7702\n",
      "Epoch 61/100\n",
      "20000/20000 [==============================] - 1s 32us/step - loss: 0.1420 - acc: 0.7773\n",
      "Epoch 62/100\n",
      "20000/20000 [==============================] - 1s 33us/step - loss: 0.1426 - acc: 0.7716\n",
      "Epoch 63/100\n",
      "20000/20000 [==============================] - 1s 36us/step - loss: 0.1407 - acc: 0.7769\n",
      "Epoch 64/100\n",
      "20000/20000 [==============================] - 1s 36us/step - loss: 0.1427 - acc: 0.7713\n",
      "Epoch 65/100\n",
      "20000/20000 [==============================] - 1s 34us/step - loss: 0.1410 - acc: 0.7744: 0s - loss: 0.1400 - acc:\n",
      "Epoch 66/100\n",
      "20000/20000 [==============================] - 1s 32us/step - loss: 0.1437 - acc: 0.7718\n",
      "Epoch 67/100\n",
      "20000/20000 [==============================] - 1s 32us/step - loss: 0.1424 - acc: 0.7745\n",
      "Epoch 68/100\n",
      "20000/20000 [==============================] - 1s 32us/step - loss: 0.1393 - acc: 0.7770\n",
      "Epoch 69/100\n",
      "20000/20000 [==============================] - 1s 33us/step - loss: 0.1406 - acc: 0.7774\n",
      "Epoch 70/100\n",
      "20000/20000 [==============================] - 1s 32us/step - loss: 0.1423 - acc: 0.7744\n",
      "Epoch 71/100\n",
      "20000/20000 [==============================] - 1s 36us/step - loss: 0.1417 - acc: 0.7748\n",
      "Epoch 72/100\n",
      "20000/20000 [==============================] - 1s 41us/step - loss: 0.1405 - acc: 0.7779\n",
      "Epoch 73/100\n",
      "20000/20000 [==============================] - 1s 34us/step - loss: 0.1402 - acc: 0.7755\n",
      "Epoch 74/100\n",
      "20000/20000 [==============================] - 1s 41us/step - loss: 0.1418 - acc: 0.7751\n",
      "Epoch 75/100\n",
      "20000/20000 [==============================] - 1s 33us/step - loss: 0.1410 - acc: 0.7773\n",
      "Epoch 76/100\n",
      "20000/20000 [==============================] - 1s 33us/step - loss: 0.1420 - acc: 0.7736\n",
      "Epoch 77/100\n",
      "20000/20000 [==============================] - 1s 34us/step - loss: 0.1427 - acc: 0.7723\n",
      "Epoch 78/100\n",
      "20000/20000 [==============================] - 1s 35us/step - loss: 0.1423 - acc: 0.7750\n",
      "Epoch 79/100\n",
      "20000/20000 [==============================] - 1s 33us/step - loss: 0.1399 - acc: 0.7785\n",
      "Epoch 80/100\n",
      "20000/20000 [==============================] - 1s 33us/step - loss: 0.1420 - acc: 0.7738\n",
      "Epoch 81/100\n",
      "20000/20000 [==============================] - 1s 37us/step - loss: 0.1407 - acc: 0.7773\n",
      "Epoch 82/100\n",
      "20000/20000 [==============================] - 1s 37us/step - loss: 0.1411 - acc: 0.7762\n",
      "Epoch 83/100\n",
      "20000/20000 [==============================] - 1s 35us/step - loss: 0.1419 - acc: 0.7699\n",
      "Epoch 84/100\n",
      "20000/20000 [==============================] - 1s 34us/step - loss: 0.1414 - acc: 0.7715\n",
      "Epoch 85/100\n",
      "20000/20000 [==============================] - 1s 37us/step - loss: 0.1405 - acc: 0.7769\n",
      "Epoch 86/100\n",
      "20000/20000 [==============================] - 1s 34us/step - loss: 0.1423 - acc: 0.7743\n",
      "Epoch 87/100\n",
      "20000/20000 [==============================] - 1s 35us/step - loss: 0.1416 - acc: 0.7745\n",
      "Epoch 88/100\n",
      "20000/20000 [==============================] - 1s 35us/step - loss: 0.1408 - acc: 0.7776\n",
      "Epoch 89/100\n",
      "20000/20000 [==============================] - 1s 50us/step - loss: 0.1405 - acc: 0.7752\n",
      "Epoch 90/100\n",
      "20000/20000 [==============================] - 1s 33us/step - loss: 0.1412 - acc: 0.7760\n",
      "Epoch 91/100\n",
      "20000/20000 [==============================] - 1s 33us/step - loss: 0.1398 - acc: 0.7780\n",
      "Epoch 92/100\n",
      "20000/20000 [==============================] - 1s 34us/step - loss: 0.1416 - acc: 0.7727\n",
      "Epoch 93/100\n",
      "20000/20000 [==============================] - 1s 33us/step - loss: 0.1402 - acc: 0.7781\n",
      "Epoch 94/100\n",
      "20000/20000 [==============================] - 1s 33us/step - loss: 0.1414 - acc: 0.7774\n",
      "Epoch 95/100\n",
      "20000/20000 [==============================] - 1s 35us/step - loss: 0.1416 - acc: 0.7760\n",
      "Epoch 96/100\n",
      "20000/20000 [==============================] - 1s 33us/step - loss: 0.1410 - acc: 0.7762\n",
      "Epoch 97/100\n",
      "20000/20000 [==============================] - 1s 32us/step - loss: 0.1422 - acc: 0.7735\n",
      "Epoch 98/100\n",
      "20000/20000 [==============================] - 1s 32us/step - loss: 0.1400 - acc: 0.7760\n",
      "Epoch 99/100\n",
      "20000/20000 [==============================] - 1s 34us/step - loss: 0.1411 - acc: 0.7742\n",
      "Epoch 100/100\n",
      "20000/20000 [==============================] - 1s 32us/step - loss: 0.1418 - acc: 0.7733\n"
     ]
    }
   ],
   "source": [
    "model.compile(loss='mse',optimizer='adam', metrics=['accuracy'])\n",
    "\n",
    "fit = model.fit(X_slim, y_train_net, batch_size=128, epochs=100, verbose=1)"
   ]
  },
  {
   "cell_type": "code",
   "execution_count": 71,
   "metadata": {
    "collapsed": true
   },
   "outputs": [],
   "source": [
    "list_predictions = model.predict(X_test_slim)\n",
    "predicted_labels = np.array(list_predictions[:, 0]<list_predictions[:, 1]).astype(int)\n",
    "list_nums= [x for x in range(1, 10001)]\n",
    "output_vector = np.column_stack((list_nums, predicted_labels))\n",
    "np.savetxt(\"predicted_labels.txt\", output_vector, fmt='%i', delimiter=',', header=\"Id,Prediction\")"
   ]
  },
  {
   "cell_type": "code",
   "execution_count": 38,
   "metadata": {
    "collapsed": true
   },
   "outputs": [],
   "source": [
    "predicted_labels = np.array(model.predict(X_test_slim))\n"
   ]
  },
  {
   "cell_type": "code",
   "execution_count": 51,
   "metadata": {
    "collapsed": true
   },
   "outputs": [],
   "source": []
  },
  {
   "cell_type": "code",
   "execution_count": 52,
   "metadata": {
    "collapsed": true
   },
   "outputs": [],
   "source": []
  },
  {
   "cell_type": "code",
   "execution_count": 53,
   "metadata": {
    "collapsed": true
   },
   "outputs": [],
   "source": [
    "list_nums= [x for x in range(1, 10001)]\n",
    "output_vector = np.column_stack((list_nums, predicted_labels))\n",
    "np.savetxt(\"predicted_labels.txt\", output_vector, fmt='%i', delimiter=',', header=\"Id,Prediction\")"
   ]
  },
  {
   "cell_type": "code",
   "execution_count": 50,
   "metadata": {},
   "outputs": [
    {
     "data": {
      "text/plain": [
       "array([1, 1, 0, ..., 0, 1, 0])"
      ]
     },
     "execution_count": 50,
     "metadata": {},
     "output_type": "execute_result"
    }
   ],
   "source": [
    "predicted_labels"
   ]
  },
  {
   "cell_type": "code",
   "execution_count": null,
   "metadata": {},
   "outputs": [
    {
     "name": "stdout",
     "output_type": "stream",
     "text": [
      "16666/16666 [==============================] - 1s 59us/step\n",
      "3334/3334 [==============================] - 0s 42us/step\n",
      "[0.8473305338932213]\n",
      "16666/16666 [==============================] - 1s 59us/step\n",
      "3334/3334 [==============================] - 0s 41us/step\n",
      "[0.8473305338932213, 0.8545290941454081]\n",
      "16667/16667 [==============================] - 1s 60us/step\n",
      "3333/3333 [==============================] - 0s 42us/step\n",
      "[0.8473305338932213, 0.8545290941454081, 0.8511851185297343]\n"
     ]
    }
   ],
   "source": [
    "#Instatianting KFold object\n",
    "kf = KFold(n_splits=6, shuffle = True)\n",
    "\n",
    "#Setting up variables\n",
    "training_error = []\n",
    "validation_error = []\n",
    "\n",
    "\n",
    "for train_index, test_index in kf.split(X_slim):\n",
    "    \n",
    "    model = Sequential()\n",
    "    model.add(Dense(6, input_shape=(len(X_slim[0]),)))\n",
    "    model.add(Activation('sigmoid'))\n",
    "    model.add(Dropout(.2))\n",
    "    model.add(Dense(2))\n",
    "    model.add(Activation('softmax'))\n",
    "    model.compile(loss='categorical_crossentropy',optimizer='adam', metrics=['accuracy'])\n",
    "    \n",
    "    #Partitioning dataset using index set\n",
    "    X_training = X_slim[train_index]\n",
    "    y_training = y_train[train_index]\n",
    "    y_train_net = keras.utils.to_categorical(y_training, num_classes=2)\n",
    "    \n",
    "    X_testing = X_slim[test_index]\n",
    "    y_testing = y_train[test_index]\n",
    "    y_test_net = keras.utils.to_categorical(y_testing, num_classes=2)\n",
    "\n",
    "\n",
    "    fit = model.fit(X_training, y_train_net, batch_size=128, epochs=100, verbose=0)\n",
    "\n",
    "    #Finding training error \n",
    "    training_error.append(model.evaluate(X_training, y_train_net))\n",
    "\n",
    "    #Finding validation error\n",
    "    validation_error.append(model.evaluate(X_testing, y_test_net)[1])\n",
    "    print(validation_error)"
   ]
  },
  {
   "cell_type": "code",
   "execution_count": null,
   "metadata": {
    "collapsed": true
   },
   "outputs": [],
   "source": [
    "n_estimators = 400\n",
    "# A learning rate of 1. may not be optimal for both SAMME and SAMME.R\n",
    "learning_rate = 1."
   ]
  },
  {
   "cell_type": "code",
   "execution_count": null,
   "metadata": {
    "collapsed": true
   },
   "outputs": [],
   "source": []
  }
 ],
 "metadata": {
  "kernelspec": {
   "display_name": "Python 3",
   "language": "python",
   "name": "python3"
  },
  "language_info": {
   "codemirror_mode": {
    "name": "ipython",
    "version": 3
   },
   "file_extension": ".py",
   "mimetype": "text/x-python",
   "name": "python",
   "nbconvert_exporter": "python",
   "pygments_lexer": "ipython3",
   "version": "3.6.4"
  }
 },
 "nbformat": 4,
 "nbformat_minor": 2
}
