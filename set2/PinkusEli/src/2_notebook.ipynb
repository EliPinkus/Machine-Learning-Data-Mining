{
 "cells": [
  {
   "cell_type": "markdown",
   "metadata": {},
   "source": [
    "# Problem 2"
   ]
  },
  {
   "cell_type": "markdown",
   "metadata": {},
   "source": [
    "Use this notebook to write your code for problem 2. You may reuse your SGD code from last week."
   ]
  },
  {
   "cell_type": "code",
   "execution_count": 1,
   "metadata": {
    "collapsed": false
   },
   "outputs": [],
   "source": [
    "import numpy as np\n",
    "import matplotlib.pyplot as plt\n",
    "%matplotlib inline\n",
    "from sklearn.preprocessing import normalize"
   ]
  },
  {
   "cell_type": "markdown",
   "metadata": {},
   "source": [
    "The following function may be useful for loading the necessary data."
   ]
  },
  {
   "cell_type": "code",
   "execution_count": 2,
   "metadata": {
    "collapsed": true
   },
   "outputs": [],
   "source": [
    "def load_data(filename):\n",
    "    \"\"\"\n",
    "    Function loads data stored in the file filename and returns it as a numpy ndarray.\n",
    "    \n",
    "    Inputs:\n",
    "        filename: given as a string.\n",
    "        \n",
    "    Outputs:\n",
    "        Data contained in the file, returned as a numpy ndarray\n",
    "    \"\"\"\n",
    "    return np.loadtxt(filename, skiprows=1, delimiter=',')"
   ]
  },
  {
   "cell_type": "code",
   "execution_count": 3,
   "metadata": {
    "collapsed": true
   },
   "outputs": [],
   "source": [
    "def gradient(x,y,w, lam, N):\n",
    "    '''\n",
    "    returns gradient of log loss given parameters\n",
    "    '''\n",
    "    return -y*x/(1+np.e**(y*w.dot(x))) + 2*lam / N * w"
   ]
  },
  {
   "cell_type": "code",
   "execution_count": 4,
   "metadata": {
    "collapsed": true
   },
   "outputs": [],
   "source": [
    "def loss(X,Y,w):\n",
    "    '''\n",
    "    returns log loss relative to arguments X, Y, w\n",
    "    '''\n",
    "    return -np.mean([np.log(1/(1+np.e**(-Y[i]*w.dot(X[i])))) for i in range(len(X))])"
   ]
  },
  {
   "cell_type": "code",
   "execution_count": 5,
   "metadata": {
    "collapsed": true
   },
   "outputs": [],
   "source": [
    "def reg_logistic(X, Y, w_start, eta, N_epochs, lam):\n",
    "    '''\n",
    "    runs regularized log regression, returns final w\n",
    "    '''\n",
    "    w = w_start\n",
    "    for i in range(N_epochs):\n",
    "        \n",
    "        perm = np.random.permutation(range(len(X)))\n",
    "        for j in perm:\n",
    "            w -= eta * gradient(X[j],Y[j],w, lam, len(X))\n",
    "    \n",
    "    return w"
   ]
  },
  {
   "cell_type": "code",
   "execution_count": 6,
   "metadata": {
    "collapsed": true
   },
   "outputs": [],
   "source": [
    "def normalize (X, avs, stdevs):\n",
    "    '''\n",
    "    normalizes X to given avs and stdevs\n",
    "    '''\n",
    "    return np.array([[(X[i][j]-avs[j])/stdevs[j] for j in range(len(features))] for i in range(len(X))])"
   ]
  },
  {
   "cell_type": "code",
   "execution_count": 26,
   "metadata": {
    "collapsed": false
   },
   "outputs": [],
   "source": [
    "# load/format data set 1\n",
    "data = load_data('data/wine_training1.txt')\n",
    "Y = [pt[0] for pt in data]\n",
    "# split by feature for normalization process.\n",
    "X = [np.array(pt[1:]) for pt in data]\n",
    "features = [[pt[i] for pt in X] for i in range(len(X[0]))]\n",
    "X_avs = [np.mean(feature) for feature in features]\n",
    "X_stdevs = [np.std(feature) for feature in features]\n",
    "X = normalize(X, X_avs, X_stdevs)\n",
    "\n",
    "data_test = load_data('data/wine_testing.txt')\n",
    "Y_test = [pt[0] for pt in data_test]\n",
    "X_test = [np.array(pt[1:]) for pt in data_test]\n",
    "X_test = normalize(X_test, X_avs, X_stdevs)\n"
   ]
  },
  {
   "cell_type": "code",
   "execution_count": 18,
   "metadata": {
    "collapsed": false
   },
   "outputs": [
    {
     "data": {
      "text/plain": [
       "array([-4.40887616, -0.77901817, -1.92729403,  2.22927804, -0.69172418,\n",
       "       -0.66424213, -0.05808414,  0.17395069,  1.08335683, -1.67666979,\n",
       "        0.02893555, -0.8417351 , -3.55193215])"
      ]
     },
     "execution_count": 18,
     "metadata": {},
     "output_type": "execute_result"
    }
   ],
   "source": [
    "reg_logistic(X,Y, np.zeros(13),5*10**(-4),20000,.00001)"
   ]
  },
  {
   "cell_type": "code",
   "execution_count": 9,
   "metadata": {
    "collapsed": false
   },
   "outputs": [
    {
     "name": "stdout",
     "output_type": "stream",
     "text": [
      "1e-05\n",
      "5e-05\n",
      "0.00025\n",
      "0.00125\n",
      "0.00625\n",
      "0.03125\n",
      "0.15625\n",
      "0.7812500000000001\n",
      "3.9062500000000004\n",
      "19.53125\n",
      "97.65625000000001\n",
      "488.28125000000006\n",
      "2441.40625\n",
      "12207.031250000002\n",
      "61035.15625000001\n"
     ]
    }
   ],
   "source": [
    "lams = [0.00001*5**i for i in range(0,15)]\n",
    "losses = []\n",
    "E_outs = []\n",
    "ws = []\n",
    "eta = 5*10**(-4)\n",
    "for lam in lams:\n",
    "    print (lam)\n",
    "    w = reg_logistic(X,Y,np.zeros(13),eta,20000, lam)\n",
    "    losses.append(loss(X,Y,w))\n",
    "    E_outs.append(loss(X_test, Y_test,w))\n",
    "    ws.append(np.sqrt(w.dot(w)))"
   ]
  },
  {
   "cell_type": "code",
   "execution_count": 10,
   "metadata": {
    "collapsed": true
   },
   "outputs": [],
   "source": [
    "# load/format data set 2\n",
    "data2 = load_data('data/wine_training2.txt')\n",
    "Y2 = [pt[0] for pt in data2]\n",
    "X2 = [np.array(pt[1:]) for pt in data2]\n",
    "features2 = [[pt[i] for pt in X2] for i in range(len(X2[0]))]\n",
    "X_avs2 = [np.mean(feature) for feature in features2]\n",
    "X_stdevs2 = [np.std(feature) for feature in features2]\n",
    "X2 = normalize(X2, X_avs2, X_stdevs2)\n",
    "\n",
    "data_test2 = load_data('data/wine_testing.txt')\n",
    "Y_test2 = [pt[0] for pt in data_test2]\n",
    "X_test2 = [np.array(pt[1:]) for pt in data_test2]\n",
    "X_test2 = normalize(X_test2, X_avs2, X_stdevs2)"
   ]
  },
  {
   "cell_type": "code",
   "execution_count": 11,
   "metadata": {
    "collapsed": false
   },
   "outputs": [
    {
     "name": "stdout",
     "output_type": "stream",
     "text": [
      "[1e-05, 5e-05, 0.00025, 0.00125, 0.00625, 0.03125, 0.15625, 0.7812500000000001, 3.9062500000000004, 19.53125, 97.65625000000001, 488.28125000000006, 2441.40625, 12207.031250000002, 61035.15625000001]\n",
      "1e-05\n",
      "5e-05\n",
      "0.00025\n",
      "0.00125\n",
      "0.00625\n",
      "0.03125\n",
      "0.15625\n",
      "0.7812500000000001\n",
      "3.9062500000000004\n",
      "19.53125\n",
      "97.65625000000001\n",
      "488.28125000000006\n",
      "2441.40625\n",
      "12207.031250000002\n",
      "61035.15625000001\n"
     ]
    }
   ],
   "source": [
    "lams2 = [0.00001*5**i for i in range(0,15)]\n",
    "losses2 = []\n",
    "E_outs2 = []\n",
    "ws2 = []\n",
    "eta = 5*10**(-4)\n",
    "for lam in lams2:\n",
    "    print(lam)\n",
    "    w = reg_logistic(X2,Y2,np.zeros(13),eta,20000, lam)\n",
    "    losses2.append(loss(X2,Y2,w))\n",
    "    E_outs2.append(loss(X_test, Y_test,w))\n",
    "    ws2.append(np.sqrt(w.dot(w)))"
   ]
  },
  {
   "cell_type": "code",
   "execution_count": 12,
   "metadata": {
    "collapsed": false
   },
   "outputs": [
    {
     "data": {
      "text/plain": [
       "<matplotlib.legend.Legend at 0x10b1c8828>"
      ]
     },
     "execution_count": 12,
     "metadata": {},
     "output_type": "execute_result"
    },
    {
     "data": {
      "image/png": "[encoded data removed]",
      "text/plain": [
       "<matplotlib.figure.Figure at 0x1132cd898>"
      ]
     },
     "metadata": {},
     "output_type": "display_data"
    }
   ],
   "source": [
    "plt.plot(lams, losses, label = 'Data Set 1')\n",
    "plt.plot(lams, losses2, label = 'Data Set 2')\n",
    "plt.xscale('log')\n",
    "plt.xlabel('$\\lambda$')\n",
    "plt.ylabel('Training Error')\n",
    "plt.title('Training Error vs. Regularization Strength')\n",
    "plt.legend()"
   ]
  },
  {
   "cell_type": "code",
   "execution_count": 13,
   "metadata": {
    "collapsed": false
   },
   "outputs": [
    {
     "data": {
      "text/plain": [
       "<matplotlib.legend.Legend at 0x11777ada0>"
      ]
     },
     "execution_count": 13,
     "metadata": {},
     "output_type": "execute_result"
    },
    {
     "data": {
      "image/png": "[encoded data removed]",
      "text/plain": [
       "<matplotlib.figure.Figure at 0x1171e6f60>"
      ]
     },
     "metadata": {},
     "output_type": "display_data"
    }
   ],
   "source": [
    "plt.plot(lams, E_outs, label = 'Data Set 1')\n",
    "plt.plot(lams, E_outs2, label = 'Data Set 2')\n",
    "plt.xscale('log')\n",
    "plt.xlabel('$\\lambda$')\n",
    "plt.ylabel('Test Error')\n",
    "plt.title('Test Error vs. Regularization Strength')\n",
    "plt.legend()"
   ]
  },
  {
   "cell_type": "code",
   "execution_count": 14,
   "metadata": {
    "collapsed": false
   },
   "outputs": [
    {
     "data": {
      "text/plain": [
       "<matplotlib.legend.Legend at 0x117a1ee80>"
      ]
     },
     "execution_count": 14,
     "metadata": {},
     "output_type": "execute_result"
    },
    {
     "data": {
      "image/png": "[encoded data removed]",
      "text/plain": [
       "<matplotlib.figure.Figure at 0x1178ff588>"
      ]
     },
     "metadata": {},
     "output_type": "display_data"
    }
   ],
   "source": [
    "plt.plot(lams, ws, label = 'Data Set 1')\n",
    "plt.plot(lams, ws2, label = 'Data Set 2')\n",
    "plt.xscale('log')\n",
    "plt.xlabel('$\\lambda$')\n",
    "plt.ylabel('L2 Norm')\n",
    "plt.title('L2 Norm vs. Regularization Strength')\n",
    "plt.legend()"
   ]
  },
  {
   "cell_type": "code",
   "execution_count": null,
   "metadata": {
    "collapsed": true
   },
   "outputs": [],
   "source": []
  }
 ],
 "metadata": {
  "kernelspec": {
   "display_name": "Python 3",
   "language": "python",
   "name": "python3"
  },
  "language_info": {
   "codemirror_mode": {
    "name": "ipython",
    "version": 3
   },
   "file_extension": ".py",
   "mimetype": "text/x-python",
   "name": "python",
   "nbconvert_exporter": "python",
   "pygments_lexer": "ipython3",
   "version": "3.6.0"
  }
 },
 "nbformat": 4,
 "nbformat_minor": 2
}
