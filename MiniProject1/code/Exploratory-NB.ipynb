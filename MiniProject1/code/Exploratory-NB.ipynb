{
 "cells": [
  {
   "cell_type": "code",
   "execution_count": 3,
   "metadata": {
    "collapsed": true
   },
   "outputs": [],
   "source": [
    "import numpy as np\n",
    "from matplotlib import pyplot as plt\n",
    "from numpy import genfromtxt\n",
    "from sklearn.linear_model import Ridge\n",
    "from sklearn.linear_model import Lasso\n",
    "from sklearn.linear_model import LogisticRegression\n",
    "\n",
    "\n",
    "from sklearn.model_selection import KFold\n",
    "from sklearn.metrics import mean_squared_error\n",
    "\n",
    "\n",
    "from sklearn import svm, datasets\n",
    "\n",
    "\n",
    "%matplotlib inline"
   ]
  },
  {
   "cell_type": "code",
   "execution_count": 4,
   "metadata": {
    "collapsed": true
   },
   "outputs": [],
   "source": [
    "def load_data(filename, skiprows = 1):\n",
    "    \"\"\"\n",
    "    Function loads data stored in the file filename and returns it as a numpy ndarray.\n",
    "    \n",
    "    Inputs:\n",
    "        filename: given as a string.\n",
    "        \n",
    "    Outputs:\n",
    "        Data contained in the file, returned as a numpy ndarray\n",
    "    \"\"\"\n",
    "    return np.loadtxt(filename, skiprows=skiprows, delimiter=' ')"
   ]
  },
  {
   "cell_type": "markdown",
   "metadata": {},
   "source": [
    "# Getting training data"
   ]
  },
  {
   "cell_type": "code",
   "execution_count": 5,
   "metadata": {
    "collapsed": true
   },
   "outputs": [],
   "source": [
    "training_data = np.array(load_data(\"training_data.txt\", skiprows = 1))"
   ]
  },
  {
   "cell_type": "code",
   "execution_count": 6,
   "metadata": {
    "collapsed": true
   },
   "outputs": [],
   "source": [
    "y_train = training_data[:, 0]\n",
    "X_train = training_data[:, 1:]"
   ]
  },
  {
   "cell_type": "code",
   "execution_count": 7,
   "metadata": {},
   "outputs": [
    {
     "data": {
      "text/plain": [
       "881"
      ]
     },
     "execution_count": 7,
     "metadata": {},
     "output_type": "execute_result"
    }
   ],
   "source": [
    "f = open(\"training_data.txt\")\n",
    "words = f.readline()\n",
    "bag = words.split()\n",
    "bag = np.array(bag[1:])\n",
    "bag\n",
    "\n",
    "to_keep = []\n",
    "for i in range(len(bag)):\n",
    "    if not len(bag[i]) <= 3:\n",
    "        to_keep.append(i)\n",
    "        \n",
    "        \n",
    "len(to_keep)"
   ]
  },
  {
   "cell_type": "code",
   "execution_count": 8,
   "metadata": {
    "collapsed": true
   },
   "outputs": [],
   "source": [
    "def get_keepers (bag, threshold, X):\n",
    "    to_keep = []\n",
    "    for i in range(len(bag)):\n",
    "        if not len(bag[i]) <= threshold:\n",
    "            to_keep.append(i)\n",
    "    return X[:,to_keep]"
   ]
  },
  {
   "cell_type": "code",
   "execution_count": 9,
   "metadata": {},
   "outputs": [
    {
     "data": {
      "text/plain": [
       "352"
      ]
     },
     "execution_count": 9,
     "metadata": {},
     "output_type": "execute_result"
    }
   ],
   "source": [
    "f = open(\"training_data.txt\")\n",
    "words = f.readline()\n",
    "bag = words.split()\n",
    "bag = np.array(bag[1:])\n",
    "\n",
    "X = get_keepers (bag, 5, X_train)\n",
    "len(X[0])"
   ]
  },
  {
   "cell_type": "code",
   "execution_count": 7,
   "metadata": {
    "collapsed": true
   },
   "outputs": [],
   "source": [
    "test_data = np.array(load_data(\"test_data.txt\"))"
   ]
  },
  {
   "cell_type": "code",
   "execution_count": 8,
   "metadata": {},
   "outputs": [],
   "source": [
    "X_test = test_data"
   ]
  },
  {
   "cell_type": "markdown",
   "metadata": {},
   "source": [
    "# Lasso Trial"
   ]
  },
  {
   "cell_type": "code",
   "execution_count": 25,
   "metadata": {
    "collapsed": true
   },
   "outputs": [],
   "source": [
    "def binary_clf_error(y_pred, y_correct):\n",
    "    '''Predicts binary classification error'''\n",
    "    binarytrain_number = (y_pred!=y_correct).sum()\n",
    "    return binarytrain_number/len(y_pred)"
   ]
  },
  {
   "cell_type": "code",
   "execution_count": 26,
   "metadata": {
    "collapsed": true
   },
   "outputs": [],
   "source": [
    "y_regression_train = y_train\n",
    "y_regression_train[y_regression_train==0] = -1\n"
   ]
  },
  {
   "cell_type": "code",
   "execution_count": 27,
   "metadata": {},
   "outputs": [
    {
     "data": {
      "text/plain": [
       "0.13525000000000001"
      ]
     },
     "execution_count": 27,
     "metadata": {},
     "output_type": "execute_result"
    }
   ],
   "source": [
    "#This is approximately the best one found\n",
    "#It got like 85% test accuracy.\n",
    "streng = 0.00070\n",
    "\n",
    "lasso = Lasso(alpha = streng)\n",
    "lasso.fit(X_train, y_regression_train)   \n",
    "y_pred = np.sign(lasso.predict(X_train))\n",
    "\n",
    "#Finding error\n",
    "binary_clf_error(y_pred, y_regression_train)"
   ]
  },
  {
   "cell_type": "code",
   "execution_count": 28,
   "metadata": {
    "collapsed": true
   },
   "outputs": [],
   "source": [
    "non_zero_inds = np.nonzero(lasso.coef_)\n",
    "X_slim = X_train[:, non_zero_inds][:,0,:]\n",
    "X_test_slim = X_test[:, non_zero_inds][:,0,:]"
   ]
  },
  {
   "cell_type": "code",
   "execution_count": 21,
   "metadata": {},
   "outputs": [
    {
     "data": {
      "text/plain": [
       "(20000, 641)"
      ]
     },
     "execution_count": 21,
     "metadata": {},
     "output_type": "execute_result"
    }
   ],
   "source": [
    "X_slim.shape"
   ]
  },
  {
   "cell_type": "code",
   "execution_count": null,
   "metadata": {
    "collapsed": true
   },
   "outputs": [],
   "source": []
  },
  {
   "cell_type": "code",
   "execution_count": 19,
   "metadata": {},
   "outputs": [
    {
     "data": {
      "text/plain": [
       "(array([  0,   1,   2,   3,   4,   5,   6,   7,   8,   9,  10,  11,  12,\n",
       "         14,  15,  16,  17,  18,  19,  20,  21,  22,  23,  24,  25,  26,\n",
       "         27,  28,  29,  30,  31,  33,  34,  35,  37,  38,  39,  40,  41,\n",
       "         42,  43,  44,  45,  46,  47,  48,  49,  50,  51,  52,  53,  54,\n",
       "         55,  56,  57,  58,  59,  60,  61,  62,  63,  64,  65,  66,  67,\n",
       "         68,  69,  70,  71,  72,  73,  75,  76,  77,  78,  79,  80,  81,\n",
       "         83,  84,  85,  86,  87,  88,  89,  90,  91,  92,  93,  94,  95,\n",
       "         96,  97,  98,  99, 100, 101, 102, 103, 104, 105, 106, 107, 108,\n",
       "        109, 110, 111, 112, 115, 116, 118, 119, 120, 121, 122, 123, 124,\n",
       "        125, 126, 127, 128, 129, 130, 131, 133, 134, 135, 136, 138, 140,\n",
       "        142, 143, 144, 145, 146, 147, 148, 149, 150, 151, 152, 153, 154,\n",
       "        155, 157, 158, 159, 160, 161, 162, 163, 164, 166, 168, 169, 170,\n",
       "        172, 173, 174, 175, 176, 177, 178, 179, 180, 181, 182, 183, 184,\n",
       "        188, 189, 192, 193, 194, 195, 196, 197, 199, 200, 204, 205, 206,\n",
       "        208, 209, 210, 211, 213, 214, 216, 217, 218, 221, 222, 223, 224,\n",
       "        225, 226, 228, 229, 230, 233, 234, 235, 236, 237, 238, 239, 240,\n",
       "        241, 242, 244, 245, 247, 248, 249, 251, 253, 255, 257, 258, 259,\n",
       "        260, 261, 263, 264, 266, 267, 268, 269, 270, 271, 272, 273, 274,\n",
       "        275, 276, 277, 279, 280, 283, 284, 285, 286, 287, 288, 289, 290,\n",
       "        291, 292, 294, 295, 296, 297, 298, 300, 301, 302, 303, 304, 308,\n",
       "        309, 310, 311, 312, 313, 316, 317, 319, 320, 321, 322, 323, 325,\n",
       "        327, 328, 329, 330, 331, 332, 333, 336, 338, 340, 341, 342, 343,\n",
       "        344, 345, 347, 348, 350, 352, 354, 355, 356, 357, 358, 359, 361,\n",
       "        362, 363, 366, 367, 368, 369, 370, 371, 372, 373, 375, 376, 379,\n",
       "        380, 382, 384, 389, 390, 391, 392, 393, 394, 395, 396, 397, 398,\n",
       "        399, 400, 403, 405, 407, 408, 409, 410, 412, 413, 415, 417, 418,\n",
       "        419, 420, 421, 422, 424, 425, 427, 428, 429, 431, 433, 434, 435,\n",
       "        436, 437, 438, 439, 442, 443, 444, 446, 447, 449, 451, 453, 454,\n",
       "        456, 458, 459, 461, 462, 463, 465, 466, 467, 468, 469, 470, 472,\n",
       "        474, 475, 476, 477, 481, 482, 483, 486, 489, 491, 495, 496, 498,\n",
       "        499, 500, 502, 503, 504, 505, 507, 508, 509, 510, 513, 516, 517,\n",
       "        520, 521, 523, 524, 525, 529, 531, 532, 533, 535, 536, 538, 539,\n",
       "        540, 541, 543, 544, 545, 546, 547, 550, 551, 553, 554, 556, 557,\n",
       "        558, 559, 560, 562, 566, 568, 570, 572, 573, 574, 576, 578, 579,\n",
       "        581, 584, 585, 587, 591, 592, 594, 597, 598, 599, 600, 601, 605,\n",
       "        606, 608, 610, 612, 613, 614, 615, 616, 617, 618, 621, 622, 624,\n",
       "        626, 627, 630, 631, 634, 635, 636, 638, 643, 644, 645, 646, 647,\n",
       "        648, 651, 652, 653, 654, 655, 656, 659, 660, 661, 663, 665, 668,\n",
       "        673, 676, 677, 678, 680, 682, 683, 684, 687, 688, 691, 692, 693,\n",
       "        694, 695, 696, 698, 704, 705, 707, 711, 713, 714, 715, 716, 719,\n",
       "        720, 721, 723, 724, 729, 730, 732, 733, 734, 736, 737, 738, 740,\n",
       "        742, 743, 744, 745, 746, 747, 748, 753, 754, 755, 756, 757, 759,\n",
       "        762, 763, 764, 770, 772, 773, 775, 778, 780, 782, 784, 787, 793,\n",
       "        794, 796, 798, 803, 806, 808, 811, 814, 815, 816, 817, 822, 823,\n",
       "        824, 825, 826, 828, 829, 831, 833, 835, 836, 838, 839, 841, 843,\n",
       "        844, 847, 849, 851, 852, 854, 855, 856, 858, 860, 861, 862, 864,\n",
       "        868, 874, 878, 879, 882, 884, 891, 892, 894, 895, 899, 901, 903,\n",
       "        904, 906, 910, 911, 912, 913, 916, 917, 919, 921, 929, 931, 934,\n",
       "        937, 939, 940, 945, 946, 947, 948, 949, 950, 952, 953, 956, 958,\n",
       "        961, 962, 963, 965, 967, 971, 972, 973, 975, 976, 979, 982, 984,\n",
       "        985, 987, 992, 993, 994, 998]),)"
      ]
     },
     "execution_count": 19,
     "metadata": {},
     "output_type": "execute_result"
    }
   ],
   "source": [
    "np.nonzero(lasso.coef_)"
   ]
  },
  {
   "cell_type": "markdown",
   "metadata": {},
   "source": [
    "# We can probably do something about these weights"
   ]
  },
  {
   "cell_type": "markdown",
   "metadata": {},
   "source": [
    "We see that to get 85% test accuracy, we don't even need 302 of the weights."
   ]
  },
  {
   "cell_type": "code",
   "execution_count": 32,
   "metadata": {
    "collapsed": true
   },
   "outputs": [],
   "source": [
    "#We can use this code to check which regularization term is optimal.\n",
    "#This can be adapted for other models to find optimal regularization terms as well.\n",
    "\n",
    "#Initializing alpha list\n",
    "alpha_values = np.linspace(0.000001, .01, num=20)\n",
    "training_error_list = []\n",
    "validation_error_list = []\n",
    "\n",
    "for alpha_value in alpha_values:\n",
    "    #Initializing Kfold cv object\n",
    "    kf = KFold(n_splits=5)\n",
    "    training_error = []\n",
    "    validation_error = []\n",
    "    \n",
    "    for train_index, test_index in kf.split(X_train):\n",
    "        #Partitioning dataset using index set\n",
    "        X_training = X_train[train_index]\n",
    "        y_training = y_regression_train[train_index]\n",
    "\n",
    "        X_testing = X_train[test_index]\n",
    "        y_testing = y_regression_train[test_index]\n",
    "\n",
    "        #Running Lasso regression on training partition\n",
    "        lasso = Lasso(alpha = alpha_value)\n",
    "        lasso.fit(X_training, y_training)\n",
    "\n",
    "        #Finding training error \n",
    "        training_error.append(binary_clf_error(np.sign(lasso.predict(X_training)), y_training))\n",
    "\n",
    "        #Finding validation error\n",
    "        validation_error.append(binary_clf_error(np.sign(lasso.predict(X_testing)), y_testing))\n",
    "    training_error_list.append(np.mean(training_error))\n",
    "    validation_error_list.append(np.mean(validation_error))\n",
    "\n",
    "\n"
   ]
  },
  {
   "cell_type": "code",
   "execution_count": 33,
   "metadata": {},
   "outputs": [
    {
     "data": {
      "text/plain": [
       "[array([  1.00000000e-06,   5.27263158e-04,   1.05352632e-03,\n",
       "          1.57978947e-03,   2.10605263e-03,   2.63231579e-03,\n",
       "          3.15857895e-03,   3.68484211e-03,   4.21110526e-03,\n",
       "          4.73736842e-03,   5.26363158e-03,   5.78989474e-03,\n",
       "          6.31615789e-03,   6.84242105e-03,   7.36868421e-03,\n",
       "          7.89494737e-03,   8.42121053e-03,   8.94747368e-03,\n",
       "          9.47373684e-03,   1.00000000e-02]),\n",
       " [0.15640000000000001,\n",
       "  0.15165000000000001,\n",
       "  0.15394999999999998,\n",
       "  0.1585,\n",
       "  0.16194999999999998,\n",
       "  0.1678,\n",
       "  0.17370000000000002,\n",
       "  0.17974999999999999,\n",
       "  0.18334999999999999,\n",
       "  0.18760000000000002,\n",
       "  0.19095000000000001,\n",
       "  0.19390000000000002,\n",
       "  0.19660000000000002,\n",
       "  0.19895000000000002,\n",
       "  0.20085000000000003,\n",
       "  0.20319999999999999,\n",
       "  0.2051,\n",
       "  0.20725000000000002,\n",
       "  0.20924999999999999,\n",
       "  0.21049999999999999]]"
      ]
     },
     "execution_count": 33,
     "metadata": {},
     "output_type": "execute_result"
    }
   ],
   "source": [
    "[alpha_values, validation_error_list]"
   ]
  },
  {
   "cell_type": "code",
   "execution_count": 35,
   "metadata": {},
   "outputs": [
    {
     "data": {
      "text/plain": [
       "Text(0.5,1,'Finding Optimal alpha value')"
      ]
     },
     "execution_count": 35,
     "metadata": {},
     "output_type": "execute_result"
    },
    {
     "data": {
      "image/png": "[encoded data removed]",
      "text/plain": [
       "<matplotlib.figure.Figure at 0x1a2e450898>"
      ]
     },
     "metadata": {},
     "output_type": "display_data"
    }
   ],
   "source": [
    "legend_handles = []\n",
    "series_names = []\n",
    "\n",
    "plt.close('all')\n",
    "plt.figure()\n",
    "\n",
    "#Plotting error\n",
    "data_series, = plt.plot(alpha_values, training_error_list, 'r-', label = 'Training error')\n",
    "legend_handles.append(data_series)\n",
    "series_names.append('Training error')\n",
    "\n",
    "data_series, = plt.plot(alpha_values, validation_error_list, 'b-', label = 'Validation error')\n",
    "legend_handles.append(data_series)\n",
    "series_names.append('Validation error')\n",
    "\n",
    "plt.legend(legend_handles, series_names, loc = \"upper right\")\n",
    "plt.ylabel('Error values')\n",
    "plt.xlabel('Values of alpha (regularizer)')\n",
    "plt.title('Finding Optimal alpha value')"
   ]
  },
  {
   "cell_type": "markdown",
   "metadata": {
    "collapsed": true
   },
   "source": [
    "# Ridge Trial"
   ]
  },
  {
   "cell_type": "code",
   "execution_count": 45,
   "metadata": {},
   "outputs": [
    {
     "data": {
      "text/plain": [
       "0.1308"
      ]
     },
     "execution_count": 45,
     "metadata": {},
     "output_type": "execute_result"
    }
   ],
   "source": [
    "y_regression_train = y_train\n",
    "y_regression_train[y_regression_train==0] = -1\n",
    "\n",
    "#This is approximately the best one found\n",
    "#Test error is like 0.1519\n",
    "streng = 130\n",
    "\n",
    "ridge = Ridge(alpha = streng)\n",
    "ridge.fit(X_train, y_regression_train)   \n",
    "y_pred = np.sign(ridge.predict(X_train))\n",
    "\n",
    "#Finding error\n",
    "binary_clf_error(y_pred, y_regression_train)"
   ]
  },
  {
   "cell_type": "code",
   "execution_count": null,
   "metadata": {
    "collapsed": true
   },
   "outputs": [],
   "source": []
  },
  {
   "cell_type": "code",
   "execution_count": null,
   "metadata": {
    "collapsed": true
   },
   "outputs": [],
   "source": []
  },
  {
   "cell_type": "code",
   "execution_count": 42,
   "metadata": {
    "collapsed": true
   },
   "outputs": [],
   "source": [
    "#We can use this code to check which regularization term is optimal.\n",
    "#This can be adapted for other models to find optimal regularization terms as well.\n",
    "\n",
    "#Initializing alpha list\n",
    "alpha_values = np.linspace(40, 160, num=5)\n",
    "training_error_list = []\n",
    "validation_error_list = []\n",
    "\n",
    "for alpha_value in alpha_values:\n",
    "    #Initializing Kfold cv object\n",
    "    kf = KFold(n_splits=5, shuffle=True)\n",
    "    training_error = []\n",
    "    validation_error = []\n",
    "    \n",
    "    for train_index, test_index in kf.split(X_train):\n",
    "        #Partitioning dataset using index set\n",
    "        X_training = X_train[train_index]\n",
    "        y_training = y_regression_train[train_index]\n",
    "\n",
    "        X_testing = X_train[test_index]\n",
    "        y_testing = y_regression_train[test_index]\n",
    "\n",
    "        #Running Lasso regression on training partition\n",
    "        ridge = Ridge(alpha = alpha_value)\n",
    "        ridge.fit(X_training, y_training)\n",
    "\n",
    "        #Finding training error \n",
    "        training_error.append(binary_clf_error(np.sign(ridge.predict(X_training)), y_training))\n",
    "\n",
    "        #Finding validation error\n",
    "        validation_error.append(binary_clf_error(np.sign(ridge.predict(X_testing)), y_testing))\n",
    "\n",
    "    training_error_list.append(np.mean(training_error))\n",
    "    validation_error_list.append(np.mean(validation_error))\n",
    "\n",
    "\n",
    "\n"
   ]
  },
  {
   "cell_type": "code",
   "execution_count": 43,
   "metadata": {},
   "outputs": [
    {
     "data": {
      "text/plain": [
       "[array([  40.,   70.,  100.,  130.,  160.]),\n",
       " [0.15445,\n",
       "  0.15309999999999999,\n",
       "  0.15215000000000001,\n",
       "  0.15190000000000001,\n",
       "  0.15289999999999998]]"
      ]
     },
     "execution_count": 43,
     "metadata": {},
     "output_type": "execute_result"
    }
   ],
   "source": [
    "[alpha_values, validation_error_list]"
   ]
  },
  {
   "cell_type": "code",
   "execution_count": 44,
   "metadata": {
    "scrolled": true
   },
   "outputs": [
    {
     "data": {
      "text/plain": [
       "Text(0.5,1,'Finding Optimal alpha value')"
      ]
     },
     "execution_count": 44,
     "metadata": {},
     "output_type": "execute_result"
    },
    {
     "data": {
      "image/png": "[encoded data removed]",
      "text/plain": [
       "<matplotlib.figure.Figure at 0x1a2f2657f0>"
      ]
     },
     "metadata": {},
     "output_type": "display_data"
    }
   ],
   "source": [
    "legend_handles = []\n",
    "series_names = []\n",
    "\n",
    "plt.close('all')\n",
    "plt.figure()\n",
    "\n",
    "#Plotting error\n",
    "data_series, = plt.plot(alpha_values, training_error_list, 'r.', label = 'Training error')\n",
    "legend_handles.append(data_series)\n",
    "series_names.append('Training error')\n",
    "\n",
    "data_series, = plt.plot(alpha_values, validation_error_list, 'b.', label = 'Validation error')\n",
    "legend_handles.append(data_series)\n",
    "series_names.append('Validation error')\n",
    "\n",
    "plt.legend(legend_handles, series_names, loc = \"upper right\")\n",
    "plt.ylabel('Error values')\n",
    "plt.xlabel('Values of alpha (regularizer)')\n",
    "plt.title('Finding Optimal alpha value')"
   ]
  },
  {
   "cell_type": "markdown",
   "metadata": {},
   "source": [
    "# SVM Classifier Trial"
   ]
  },
  {
   "cell_type": "code",
   "execution_count": null,
   "metadata": {
    "collapsed": true
   },
   "outputs": [],
   "source": [
    "svc = svm.SVC(kernel='linear', C=10,gamma='auto')\n",
    "svc.fit(X_slim, y_regression_train)"
   ]
  },
  {
   "cell_type": "code",
   "execution_count": null,
   "metadata": {
    "collapsed": true
   },
   "outputs": [],
   "source": [
    "y_pred = np.sign(svc.predict(X_slim))"
   ]
  },
  {
   "cell_type": "code",
   "execution_count": null,
   "metadata": {
    "collapsed": true
   },
   "outputs": [],
   "source": [
    "binarytrain_error = (y_pred!=y_train).sum()"
   ]
  },
  {
   "cell_type": "code",
   "execution_count": null,
   "metadata": {
    "collapsed": true
   },
   "outputs": [],
   "source": [
    "binarytrain_error/20000"
   ]
  },
  {
   "cell_type": "code",
   "execution_count": 87,
   "metadata": {},
   "outputs": [
    {
     "data": {
      "text/plain": [
       "Ridge(alpha=1.0, copy_X=True, fit_intercept=True, max_iter=None,\n",
       "   normalize=False, random_state=None, solver='auto', tol=0.001)"
      ]
     },
     "execution_count": 87,
     "metadata": {},
     "output_type": "execute_result"
    }
   ],
   "source": []
  },
  {
   "cell_type": "markdown",
   "metadata": {},
   "source": [
    "# Using Logistic Regression"
   ]
  },
  {
   "cell_type": "code",
   "execution_count": 1,
   "metadata": {
    "collapsed": true
   },
   "outputs": [],
   "source": [
    "def binary_clf_error(y_pred, y_correct):\n",
    "    '''Predicts binary classification error'''\n",
    "    binarytrain_number = (y_pred!=y_correct).sum()\n",
    "    return binarytrain_number/len(y_pred)"
   ]
  },
  {
   "cell_type": "code",
   "execution_count": 2,
   "metadata": {},
   "outputs": [
    {
     "ename": "NameError",
     "evalue": "name 'LogisticRegression' is not defined",
     "output_type": "error",
     "traceback": [
      "\u001b[0;31m---------------------------------------------------------------------------\u001b[0m",
      "\u001b[0;31mNameError\u001b[0m                                 Traceback (most recent call last)",
      "\u001b[0;32m<ipython-input-2-be43a58d45ff>\u001b[0m in \u001b[0;36m<module>\u001b[0;34m()\u001b[0m\n\u001b[1;32m      1\u001b[0m \u001b[0;31m#This was the optimal regularizing term found.\u001b[0m\u001b[0;34m\u001b[0m\u001b[0;34m\u001b[0m\u001b[0m\n\u001b[0;32m----> 2\u001b[0;31m \u001b[0mlog_reg\u001b[0m \u001b[0;34m=\u001b[0m \u001b[0mLogisticRegression\u001b[0m\u001b[0;34m(\u001b[0m\u001b[0mC\u001b[0m \u001b[0;34m=\u001b[0m \u001b[0;36m0.2\u001b[0m\u001b[0;34m)\u001b[0m\u001b[0;34m\u001b[0m\u001b[0m\n\u001b[0m\u001b[1;32m      3\u001b[0m \u001b[0m_\u001b[0m \u001b[0;34m=\u001b[0m \u001b[0mlog_reg\u001b[0m\u001b[0;34m.\u001b[0m\u001b[0mfit\u001b[0m\u001b[0;34m(\u001b[0m\u001b[0mX_slim\u001b[0m\u001b[0;34m,\u001b[0m \u001b[0my_train\u001b[0m\u001b[0;34m)\u001b[0m\u001b[0;34m\u001b[0m\u001b[0m\n\u001b[1;32m      4\u001b[0m \u001b[0mbinary_clf_error\u001b[0m\u001b[0;34m(\u001b[0m\u001b[0mlog_reg\u001b[0m\u001b[0;34m.\u001b[0m\u001b[0mpredict\u001b[0m\u001b[0;34m(\u001b[0m\u001b[0mX_slim\u001b[0m\u001b[0;34m)\u001b[0m\u001b[0;34m,\u001b[0m \u001b[0my_train\u001b[0m\u001b[0;34m)\u001b[0m\u001b[0;34m\u001b[0m\u001b[0m\n",
      "\u001b[0;31mNameError\u001b[0m: name 'LogisticRegression' is not defined"
     ]
    }
   ],
   "source": [
    "#This was the optimal regularizing term found.\n",
    "log_reg = LogisticRegression(C = 0.2)\n",
    "_ = log_reg.fit(X_slim, y_train)\n",
    "binary_clf_error(log_reg.predict(X_slim), y_train)"
   ]
  },
  {
   "cell_type": "code",
   "execution_count": 86,
   "metadata": {},
   "outputs": [
    {
     "data": {
      "text/plain": [
       "array([[    1,     1],\n",
       "       [    2,     1],\n",
       "       [    3,     0],\n",
       "       ..., \n",
       "       [ 9998,     0],\n",
       "       [ 9999,     1],\n",
       "       [10000,     0]])"
      ]
     },
     "execution_count": 86,
     "metadata": {},
     "output_type": "execute_result"
    }
   ],
   "source": [
    "predicted_labels = np.array(log_reg.predict(X_test_slim)).astype(int)\n",
    "predicted_labels[predicted_labels==-1] = 0\n",
    "\n",
    "list_nums= [x for x in range(1, 10001)]\n",
    "output_vector = np.column_stack((list_nums, predicted_labels))\n",
    "np.savetxt(\"predicted_labels.txt\", output_vector, fmt='%i', delimiter=',', header=\"Id,Prediction\")\n",
    "output_vector"
   ]
  },
  {
   "cell_type": "code",
   "execution_count": null,
   "metadata": {
    "collapsed": true
   },
   "outputs": [],
   "source": []
  },
  {
   "cell_type": "code",
   "execution_count": null,
   "metadata": {
    "collapsed": true
   },
   "outputs": [],
   "source": [
    "#Used to be around 0.06/0.15"
   ]
  },
  {
   "cell_type": "code",
   "execution_count": null,
   "metadata": {
    "collapsed": true
   },
   "outputs": [],
   "source": []
  },
  {
   "cell_type": "code",
   "execution_count": 83,
   "metadata": {
    "collapsed": true
   },
   "outputs": [],
   "source": [
    "#We can use this code to check which regularization term is optimal.\n",
    "#This can be adapted for other models to find optimal regularization terms as well.\n",
    "\n",
    "\n",
    "#Initializing C list\n",
    "c_values = np.linspace(0.07, 0.20, num=5)\n",
    "training_error_list = []\n",
    "validation_error_list = []\n",
    "\n",
    "for c_value in c_values:\n",
    "    #Initializing Kfold cv object\n",
    "    kf = KFold(n_splits=15, shuffle = True)\n",
    "\n",
    "    training_error = []\n",
    "    validation_error = []\n",
    "    \n",
    "    for train_index, test_index in kf.split(X_slim):\n",
    "        #Partitioning dataset using index set\n",
    "        X_training = X_slim[train_index]\n",
    "        y_training = y_train[train_index]\n",
    "\n",
    "        X_testing = X_slim[test_index]\n",
    "        y_testing = y_train[test_index]\n",
    "\n",
    "        #Running Logistic regression on training partition\n",
    "        log_reg = LogisticRegression(C = c_value)\n",
    "        log_reg.fit(X_training, y_training)\n",
    "\n",
    "        #Finding training error \n",
    "        training_error.append(binary_clf_error(log_reg.predict(X_training), y_training))\n",
    "\n",
    "        #Finding validation error\n",
    "        validation_error.append(binary_clf_error(log_reg.predict(X_testing), y_testing))\n",
    "    training_error_list.append(np.mean(training_error))\n",
    "    validation_error_list.append(np.mean(validation_error))\n",
    "\n",
    "\n",
    "\n"
   ]
  },
  {
   "cell_type": "code",
   "execution_count": 84,
   "metadata": {},
   "outputs": [
    {
     "data": {
      "text/plain": [
       "[array([ 0.07  ,  0.1025,  0.135 ,  0.1675,  0.2   ]),\n",
       " [0.14525051802680802,\n",
       "  0.14389999298925182,\n",
       "  0.14449916827032844,\n",
       "  0.14335056777687677,\n",
       "  0.14319978045485884]]"
      ]
     },
     "execution_count": 84,
     "metadata": {},
     "output_type": "execute_result"
    }
   ],
   "source": [
    "[c_values, validation_error_list]"
   ]
  },
  {
   "cell_type": "code",
   "execution_count": 116,
   "metadata": {},
   "outputs": [
    {
     "data": {
      "text/plain": [
       "Text(0.5,1,'Finding Optimal C value')"
      ]
     },
     "execution_count": 116,
     "metadata": {},
     "output_type": "execute_result"
    },
    {
     "data": {
      "image/png": "[encoded data removed]",
      "text/plain": [
       "<matplotlib.figure.Figure at 0x1a3059a0f0>"
      ]
     },
     "metadata": {},
     "output_type": "display_data"
    }
   ],
   "source": [
    "legend_handles = []\n",
    "series_names = []\n",
    "\n",
    "plt.close('all')\n",
    "plt.figure()\n",
    "\n",
    "#Plotting error\n",
    "data_series, = plt.plot(c_values, training_error_list, 'r.', label = 'Training error')\n",
    "legend_handles.append(data_series)\n",
    "series_names.append('Training error')\n",
    "\n",
    "data_series, = plt.plot(c_values, validation_error_list, 'b.', label = 'Validation error')\n",
    "legend_handles.append(data_series)\n",
    "series_names.append('Validation error')\n",
    "\n",
    "plt.legend(legend_handles, series_names, loc = \"upper right\")\n",
    "plt.ylabel('Error values')\n",
    "plt.xlabel('Values of C (regularizer)')\n",
    "plt.title('Finding Optimal C value')"
   ]
  },
  {
   "cell_type": "code",
   "execution_count": null,
   "metadata": {
    "collapsed": true
   },
   "outputs": [],
   "source": []
  },
  {
   "cell_type": "markdown",
   "metadata": {},
   "source": [
    "# Neural Network Simple Implementation"
   ]
  },
  {
   "cell_type": "code",
   "execution_count": 45,
   "metadata": {},
   "outputs": [
    {
     "data": {
      "text/plain": [
       "SVC(C=1.0, cache_size=200, class_weight=None, coef0=0.0,\n",
       "  decision_function_shape='ovr', degree=3, gamma='auto', kernel='linear',\n",
       "  max_iter=-1, probability=False, random_state=None, shrinking=True,\n",
       "  tol=0.001, verbose=False)"
      ]
     },
     "execution_count": 45,
     "metadata": {},
     "output_type": "execute_result"
    }
   ],
   "source": [
    "clf = svm.SVC(C=1.0, kernel = 'linear')\n",
    "clf.fit(X_train[:1000], y_train[:1000])"
   ]
  },
  {
   "cell_type": "code",
   "execution_count": 40,
   "metadata": {},
   "outputs": [
    {
     "data": {
      "text/plain": [
       "array([ 1.,  1.,  1.,  1., -1.])"
      ]
     },
     "execution_count": 40,
     "metadata": {},
     "output_type": "execute_result"
    }
   ],
   "source": [
    "y_train[0:5]"
   ]
  },
  {
   "cell_type": "code",
   "execution_count": null,
   "metadata": {
    "collapsed": true
   },
   "outputs": [],
   "source": []
  },
  {
   "cell_type": "markdown",
   "metadata": {},
   "source": [
    "# Feature analysis/eliminate words"
   ]
  },
  {
   "cell_type": "markdown",
   "metadata": {},
   "source": [
    "# Consider more complex Models"
   ]
  },
  {
   "cell_type": "code",
   "execution_count": null,
   "metadata": {
    "collapsed": true
   },
   "outputs": [],
   "source": [
    "log_reg = LogisticRegression(C = 1e9)\n",
    "log_reg.fit(X, y)   # Fit the ridge regression model to the data"
   ]
  }
 ],
 "metadata": {
  "kernelspec": {
   "display_name": "Python 3",
   "language": "python",
   "name": "python3"
  },
  "language_info": {
   "codemirror_mode": {
    "name": "ipython",
    "version": 3
   },
   "file_extension": ".py",
   "mimetype": "text/x-python",
   "name": "python",
   "nbconvert_exporter": "python",
   "pygments_lexer": "ipython3",
   "version": "3.6.3"
  }
 },
 "nbformat": 4,
 "nbformat_minor": 2
}
