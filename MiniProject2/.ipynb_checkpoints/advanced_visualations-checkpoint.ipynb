{
 "cells": [
  {
   "cell_type": "code",
   "execution_count": 1,
   "metadata": {
    "collapsed": false
   },
   "outputs": [],
   "source": [
    "import numpy as np\n",
    "ratings = np.loadtxt('data/data.txt')\n",
    "movies = np.loadtxt('data/movies.txt', encoding = 'latin-1', dtype = str, delimiter = '\\t')\n",
    "Y_train = np.loadtxt('data/train.txt').astype(int)\n",
    "Y_test = np.loadtxt('data/test.txt').astype(int)\n",
    "len(Y_train)\n",
    "from prob2utils import train_model\n",
    "from prob2utils import get_err\n",
    "import matplotlib.pyplot as plt\n",
    "%matplotlib inline"
   ]
  },
  {
   "cell_type": "code",
   "execution_count": null,
   "metadata": {
    "collapsed": false
   },
   "outputs": [],
   "source": [
    "# deduce M, N and set parameters for model\n",
    "M = max(max(Y_train[:,0]), max(Y_test[:,0])).astype(int) # users\n",
    "N = max(max(Y_train[:,1]), max(Y_test[:,1])).astype(int) # movies\n",
    "K = 20\n",
    "reg = 0\n",
    "eta = 0.005"
   ]
  },
  {
   "cell_type": "code",
   "execution_count": null,
   "metadata": {
    "collapsed": false
   },
   "outputs": [
    {
     "name": "stdout",
     "output_type": "stream",
     "text": [
      "initial loss: 6.932495058932083\n",
      "0\n",
      "1\n",
      "2\n",
      "3\n",
      "4\n",
      "5\n",
      "6\n",
      "7\n",
      "8\n",
      "9\n",
      "10\n",
      "11\n",
      "12\n",
      "13\n",
      "14\n",
      "15\n",
      "16\n",
      "17\n",
      "18\n",
      "19\n",
      "20\n"
     ]
    }
   ],
   "source": [
    "# run model using set 5 implementation\n",
    "U, V, err = train_model(M, N, K, eta, reg, Y_train)"
   ]
  },
  {
   "cell_type": "code",
   "execution_count": null,
   "metadata": {
    "collapsed": false
   },
   "outputs": [],
   "source": [
    "print('Training Error:')\n",
    "get_err(U, V, Y_train)"
   ]
  },
  {
   "cell_type": "code",
   "execution_count": null,
   "metadata": {
    "collapsed": false
   },
   "outputs": [],
   "source": [
    "print('Testing Error:')\n",
    "get_err(U, V, Y_test)"
   ]
  },
  {
   "cell_type": "code",
   "execution_count": null,
   "metadata": {
    "collapsed": false
   },
   "outputs": [],
   "source": [
    "# do SVD and find U tilde and V tilde\n",
    "\n",
    "A, s, vh = np.linalg.svd(V.transpose(), full_matrices=False)\n",
    "\n",
    "A_slim = A[:,:2]\n",
    "A_slim.transpose().shape\n",
    "\n",
    "U_tilde = (A_slim.transpose()).dot(U.transpose())\n",
    "V_tilde = (A_slim.transpose()).dot(V.transpose())"
   ]
  },
  {
   "cell_type": "code",
   "execution_count": null,
   "metadata": {
    "collapsed": false
   },
   "outputs": [],
   "source": [
    "U_tilde.shape, V_tilde.shape"
   ]
  },
  {
   "cell_type": "code",
   "execution_count": null,
   "metadata": {
    "collapsed": true
   },
   "outputs": [],
   "source": [
    "# center to 0 and unit variance\n",
    "for i in range(len(U_tilde)):\n",
    "    V_tilde[i] -= np.mean(V_tilde[i])\n",
    "    U_tilde[i] -= np.mean(U_tilde[i])\n",
    "\n",
    "    V_tilde[i] /= np.std(V_tilde[i])\n",
    "    U_tilde[i] /= np.std(U_tilde[i])"
   ]
  },
  {
   "cell_type": "code",
   "execution_count": null,
   "metadata": {
    "collapsed": false
   },
   "outputs": [],
   "source": [
    "# Save movie names in a convenient format\n",
    "movie_names = movies[:, 1]"
   ]
  },
  {
   "cell_type": "code",
   "execution_count": null,
   "metadata": {
    "collapsed": false
   },
   "outputs": [],
   "source": [
    "#Index list of points to plot\n",
    "idx_list = [x for x in range(1672, 1682)]\n",
    "\n",
    "\n",
    "#Getting x,y of these points\n",
    "position_list = V_tilde[:,idx_list]\n",
    "#Creating list of movie names\n",
    "name_list = movie_names[idx_list]\n",
    "\n",
    "#Plotting points\n",
    "plt.plot(position_list[0], position_list[1], '.')\n",
    "plt.title('10 Movies')\n",
    "#Overlaying names of movies on plot\n",
    "for i, txt in enumerate(name_list):\n",
    "    plt.annotate(txt, (position_list[0, i], position_list[1, i]),fontsize = 8)\n",
    "plt.savefig('figures/advanced_a', dpi = 400)"
   ]
  },
  {
   "cell_type": "code",
   "execution_count": null,
   "metadata": {
    "collapsed": false
   },
   "outputs": [],
   "source": [
    "# count frequency of rating\n",
    "movies_counts = np.zeros(len(ratings))\n",
    "for rating in ratings:\n",
    "    i = int(rating[1] - 1)\n",
    "    movies_counts[i] += 1\n",
    "\n",
    "# take the ten most frequently rated movies\n",
    "max_indexes = []\n",
    "for j in range(10):\n",
    "    i = np.argmax(movies_counts)\n",
    "    max_indexes.append([i, movies_counts[i]])\n",
    "    movies_counts[i] = 0\n",
    "\n",
    "inds = np.array(max_indexes).astype(int)[:,0]\n",
    "\n",
    "\n",
    "#Index list of points to plot\n",
    "idx_list = inds\n",
    "\n",
    "\n",
    "#Getting x,y of these points\n",
    "position_list = V_tilde[:,idx_list]\n",
    "#Creating list of movie names\n",
    "name_list = movie_names[idx_list]\n",
    "\n",
    "#Plotting points\n",
    "plt.plot(position_list[0], position_list[1], '.')\n",
    "plt.title('Ten most Popular')\n",
    "#Overlaying names of movies on plot\n",
    "for i, txt in enumerate(name_list):\n",
    "    print(txt)\n",
    "    plt.annotate(txt, (position_list[0, i], position_list[1, i]))\n",
    "    \n",
    "plt.savefig('figures/advanced_b', dpi = 400)"
   ]
  },
  {
   "cell_type": "code",
   "execution_count": null,
   "metadata": {
    "collapsed": false
   },
   "outputs": [],
   "source": [
    "movies_counts = np.zeros(len(ratings))\n",
    "for rating in ratings:\n",
    "    i = int(rating[1] - 1)\n",
    "    movies_counts[i] += 1\n",
    "\n",
    "# get average ratings\n",
    "movies_ratings = np.zeros(len(ratings))\n",
    "for rating in ratings:\n",
    "    i = int(rating[1] - 1)\n",
    "    movies_ratings[i] += rating[2]\n",
    "    \n",
    "for i in range(len(movies_ratings)):\n",
    "    if movies_counts[i] != 0:\n",
    "        movies_ratings[i] /= float(movies_counts[i])\n",
    "\n",
    "# take top 10\n",
    "max_indexes = []\n",
    "for j in range(10):\n",
    "    i = np.argmax(movies_ratings)\n",
    "    max_indexes.append([i, movies_ratings[i], int(movies_counts[i])])\n",
    "    movies_ratings[i] = 0\n",
    "\n",
    "# add movie title to tuple for convenience\n",
    "for pt in max_indexes:\n",
    "    i = pt[0]\n",
    "    pt.append(movies[i][1])\n",
    "    pt[1] = int(pt[1])\n",
    "    \n",
    "    \n",
    "inds = np.array(max_indexes)[:,0]\n",
    "\n",
    "#Index list of points to plot\n",
    "idx_list = inds.astype(int)\n",
    "\n",
    "\n",
    "#Getting x,y of these points\n",
    "position_list = V_tilde[:,idx_list]\n",
    "#Creating list of movie names\n",
    "name_list = movie_names[idx_list]\n",
    "\n",
    "#Plotting points\n",
    "plt.plot(position_list[0], position_list[1], '.')\n",
    "plt.title('10 Highest Rated')\n",
    "#Overlaying names of movies on plot\n",
    "for i, txt in enumerate(name_list):\n",
    "    plt.annotate(txt, (position_list[0, i], position_list[1, i]), fontsize = 8)\n",
    "plt.savefig('figures/advanced_c', dpi = 400)"
   ]
  },
  {
   "cell_type": "code",
   "execution_count": null,
   "metadata": {
    "collapsed": false
   },
   "outputs": [],
   "source": [
    "movies_counts = np.zeros(len(ratings))\n",
    "for rating in ratings:\n",
    "    i = int(rating[1] - 1)\n",
    "    movies_counts[i] += 1\n",
    "    \n",
    "max_indexes = []\n",
    "for j in range(len(movies)):\n",
    "    i = np.argmax(movies_counts)\n",
    "    max_indexes.append([i, movies_counts[i]])\n",
    "    movies_counts[i] = 0\n",
    "    \n",
    "    \n",
    "max_comedies = []\n",
    "for pt in max_indexes:\n",
    "    is_comedy = int(movies[pt[0]][7])\n",
    "    if is_comedy == 1:\n",
    "        max_comedies.append(pt)\n",
    "    \n",
    "    if len(max_comedies) == 10:\n",
    "        break\n",
    "        \n",
    "max_dramas = []\n",
    "for pt in max_indexes:\n",
    "    is_drama = int(movies[pt[0]][10])\n",
    "    if is_drama == 1:\n",
    "        max_dramas.append(pt)\n",
    "    \n",
    "    if len(max_dramas) == 10:\n",
    "        break\n",
    "        \n",
    "max_docs = []\n",
    "for pt in max_indexes:\n",
    "    is_doc = int(movies[pt[0]][9])\n",
    "    if is_doc == 1:\n",
    "        max_docs.append(pt)\n",
    "    \n",
    "    if len(max_docs) == 10:\n",
    "        break\n",
    "        \n",
    "inds = list(np.array(max_comedies)[:,0].astype(int)) + list(np.array(max_dramas)[:,0].astype(int)) + list(np.array(max_docs)[:,0].astype(int))\n",
    "\n",
    "#Index list of points to plot\n",
    "idx_list = inds\n",
    "comedy_inds = list(np.array(max_comedies)[:,0].astype(int))\n",
    "drama_inds = list(np.array(max_dramas)[:,0].astype(int))\n",
    "doc_inds = list(np.array(max_docs)[:,0].astype(int))\n",
    "\n",
    "#Making a list of movie names\n",
    "comedy_names = movie_names[comedy_inds]\n",
    "drama_names = movie_names[drama_inds]\n",
    "doc_names = movie_names[doc_inds]\n",
    "\n",
    "#Getting x,y of these points\n",
    "position_list_com = V_tilde[:,comedy_inds]\n",
    "position_list_dram = V_tilde[:,drama_inds]\n",
    "position_list_doc = V_tilde[:,doc_inds]\n",
    "\n",
    "\n",
    "\n",
    "#Creating list of movie names\n",
    "#name_list = movie_names[idx_list]\n",
    "\n",
    "#Plotting points\n",
    "plt.plot(position_list_com[0], position_list_com[1], '.', color = 'blue')\n",
    "plt.plot(position_list_dram[0], position_list_dram[1], '.', color = 'red')\n",
    "plt.plot(position_list_doc[0], position_list_doc[1], '.', color = 'green')\n",
    "\n",
    "\n",
    "\n",
    "\n",
    "#Overlaying names of movies on plot\n",
    "for i, txt in enumerate(comedy_names[:]):\n",
    "    plt.annotate(txt, (position_list_com[0, i], position_list_com[1, i]), fontsize = 4, color= \"blue\")\n",
    "\n",
    "for i, txt in enumerate(drama_names[:]):\n",
    "    plt.annotate(txt, (position_list_dram[0, i], position_list_dram[1, i]), fontsize = 4, color= \"red\")\n",
    "    \n",
    "for i, txt in enumerate(doc_names[:]):\n",
    "    plt.annotate(txt, (position_list_doc[0, i], position_list_doc[1, i]), fontsize = 4, color= \"green\")\n",
    "    \n",
    "    \n",
    "plt.title('10 Comedy, 10 Drama, 10 Documentary')\n",
    "plt.savefig('figures/advanced_d.png', dpi = 800)\n",
    "    "
   ]
  },
  {
   "cell_type": "code",
   "execution_count": null,
   "metadata": {
    "collapsed": false
   },
   "outputs": [],
   "source": [
    "\n"
   ]
  },
  {
   "cell_type": "code",
   "execution_count": null,
   "metadata": {
    "collapsed": false
   },
   "outputs": [],
   "source": [
    "rom, com, rom_com = [], [], []\n",
    "for movie in movies:\n",
    "    if int(movie[7]) == 1 and int(movie[16]) == 1:\n",
    "        rom_com.append(int(movie[0]) - 1)\n",
    "    elif int(movie[7]) == 1:\n",
    "        com.append(int(movie[0]) - 1)\n",
    "    elif int(movie[16]) == 1:\n",
    "        rom.append(int(movie[0]) - 1)\n",
    "\n",
    "rom = np.array(rom)\n",
    "com = np.array(com)\n",
    "rom_com = np.array(rom_com)"
   ]
  },
  {
   "cell_type": "code",
   "execution_count": null,
   "metadata": {
    "collapsed": false
   },
   "outputs": [],
   "source": [
    "len(rom)"
   ]
  },
  {
   "cell_type": "code",
   "execution_count": null,
   "metadata": {
    "collapsed": false
   },
   "outputs": [],
   "source": [
    "len(com)"
   ]
  },
  {
   "cell_type": "code",
   "execution_count": null,
   "metadata": {
    "collapsed": false
   },
   "outputs": [],
   "source": [
    "len(rom_com)"
   ]
  },
  {
   "cell_type": "code",
   "execution_count": null,
   "metadata": {
    "collapsed": false
   },
   "outputs": [],
   "source": [
    "#Getting x,y of these points\n",
    "position_list_rom = V_tilde[:,rom]\n",
    "position_list_com = V_tilde[:,com]\n",
    "position_list_rom_com = V_tilde[:,rom_com]\n",
    "\n",
    "rom_av = np.mean(position_list_rom, axis = 1)\n",
    "com_av = np.mean(position_list_com, axis = 1)\n",
    "rom_com_av = np.mean(position_list_rom_com, axis = 1)\n",
    "\n",
    "\n",
    "#Creating list of movie names\n",
    "#name_list = movie_names[idx_list]\n",
    "\n",
    "#Plotting points\n",
    "plt.plot(position_list_rom[0], position_list_rom[1], '.', color = '#5157cc', label = 'Romance')\n",
    "plt.plot(position_list_com[0], position_list_com[1], '.', color = '#7d2a8c', label = 'Comedy')\n",
    "plt.plot(position_list_rom_com[0], position_list_rom_com[1], '.', color = 'green', label = 'Romantic Comedy')\n",
    "plt.plot(rom_av[0], rom_av[1], 'o', color ='#16e7ff', ms = 12)\n",
    "plt.plot(com_av[0], com_av[1], 'o', color = '#f429f4', ms = 12)\n",
    "plt.plot(rom_com_av[0], rom_com_av[1], 'o', color = '#16ff54', ms = 12)\n",
    "plt.legend()\n",
    "plt.title('Romance and Comedy')\n",
    "plt.savefig('figures/rom_vs_com.png', dpi = 400)\n",
    "\n"
   ]
  },
  {
   "cell_type": "code",
   "execution_count": null,
   "metadata": {
    "collapsed": true
   },
   "outputs": [],
   "source": []
  }
 ],
 "metadata": {
  "kernelspec": {
   "display_name": "Python 3",
   "language": "python",
   "name": "python3"
  },
  "language_info": {
   "codemirror_mode": {
    "name": "ipython",
    "version": 3
   },
   "file_extension": ".py",
   "mimetype": "text/x-python",
   "name": "python",
   "nbconvert_exporter": "python",
   "pygments_lexer": "ipython3",
   "version": "3.6.0"
  }
 },
 "nbformat": 4,
 "nbformat_minor": 2
}
