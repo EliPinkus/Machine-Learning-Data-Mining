{
 "cells": [
  {
   "cell_type": "code",
   "execution_count": 165,
   "metadata": {
    "collapsed": false
   },
   "outputs": [],
   "source": [
    "import numpy as np\n",
    "from scipy.sparse import csr_matrix as csr\n",
    "from sklearn.decomposition import NMF\n",
    "Y_train = np.loadtxt('data/train.txt').astype(int)\n",
    "Y_test = np.loadtxt('data/test.txt').astype(int)\n",
    "ratings = np.loadtxt('data/data.txt').astype(int)\n",
    "from prob2utils import get_err\n",
    "movies = np.loadtxt('data/movies.txt', encoding = 'latin-1', dtype = str, delimiter = '\\t')\n",
    "import matplotlib.pyplot as plt\n",
    "%matplotlib inline\n",
    "import itertools\n"
   ]
  },
  {
   "cell_type": "code",
   "execution_count": 2,
   "metadata": {
    "collapsed": false
   },
   "outputs": [],
   "source": [
    "M = max(max(Y_train[:,0]), max(Y_test[:,0])).astype(int)  # users# num of movies in data\n",
    "N = max(max(Y_train[:,1]), max(Y_test[:,1])).astype(int) # movies\n",
    "Y = np.array([[0.0 for j in range(N)] for i in range(M)])\n",
    "K = 20\n",
    "\n",
    "for pt in Y_train:\n",
    "    Y[int(pt[0]) -1, int(pt[1]) -1] = pt[2]\n",
    "    \n",
    "averages = []\n",
    "for i in range(M):\n",
    "    averages.append(np.mean(Y[i]))\n",
    "    \n",
    "for i in range(M):\n",
    "    for j in range(N):\n",
    "        if Y[i, j] == 0.0:\n",
    "            Y[i, j] = averages[i]"
   ]
  },
  {
   "cell_type": "code",
   "execution_count": 56,
   "metadata": {
    "collapsed": false
   },
   "outputs": [],
   "source": [
    "model = NMF(n_components = K, init = 'random', random_state = 0, shuffle = True)\n",
    "U = model.fit_transform(Y)\n",
    "V = model.components_"
   ]
  },
  {
   "cell_type": "code",
   "execution_count": 110,
   "metadata": {
    "collapsed": false
   },
   "outputs": [
    {
     "data": {
      "text/plain": [
       "((943, 20), (20, 1682))"
      ]
     },
     "execution_count": 110,
     "metadata": {},
     "output_type": "execute_result"
    }
   ],
   "source": [
    "U.shape, V.shape"
   ]
  },
  {
   "cell_type": "code",
   "execution_count": 111,
   "metadata": {
    "collapsed": false
   },
   "outputs": [],
   "source": [
    "A, s, vh = np.linalg.svd(V, full_matrices=False)"
   ]
  },
  {
   "cell_type": "code",
   "execution_count": 112,
   "metadata": {
    "collapsed": false
   },
   "outputs": [
    {
     "data": {
      "text/plain": [
       "(2, 20)"
      ]
     },
     "execution_count": 112,
     "metadata": {},
     "output_type": "execute_result"
    }
   ],
   "source": [
    "A_slim = A[:,:2]\n",
    "A_slim.transpose().shape"
   ]
  },
  {
   "cell_type": "code",
   "execution_count": 113,
   "metadata": {
    "collapsed": false
   },
   "outputs": [],
   "source": [
    "U_tilde = (A_slim.transpose()).dot(U.transpose())\n",
    "V_tilde = (A_slim.transpose()).dot(V)"
   ]
  },
  {
   "cell_type": "code",
   "execution_count": 114,
   "metadata": {
    "collapsed": false
   },
   "outputs": [
    {
     "data": {
      "text/plain": [
       "((2, 943), (2, 1682))"
      ]
     },
     "execution_count": 114,
     "metadata": {},
     "output_type": "execute_result"
    }
   ],
   "source": [
    "U_tilde.shape, V_tilde.shape"
   ]
  },
  {
   "cell_type": "code",
   "execution_count": 115,
   "metadata": {
    "collapsed": false
   },
   "outputs": [],
   "source": [
    "for i in range(len(U_tilde)):\n",
    "    V_tilde[i] -= np.mean(V_tilde[i])\n",
    "    U_tilde[i] -= np.mean(U_tilde[i])\n",
    "\n",
    "    V_tilde[i] /= np.std(V_tilde[i])\n",
    "    U_tilde[i] /= np.std(U_tilde[i])"
   ]
  },
  {
   "cell_type": "code",
   "execution_count": 116,
   "metadata": {
    "collapsed": false
   },
   "outputs": [
    {
     "data": {
      "text/plain": [
       "(array([1., 1.]), array([1., 1.]))"
      ]
     },
     "execution_count": 116,
     "metadata": {},
     "output_type": "execute_result"
    }
   ],
   "source": [
    "np.var(U_tilde, axis = 1), np.var(V_tilde, axis = 1)"
   ]
  },
  {
   "cell_type": "code",
   "execution_count": 118,
   "metadata": {
    "collapsed": false
   },
   "outputs": [
    {
     "data": {
      "text/plain": [
       "(array([-7.53491766e-18, -1.50698353e-17]),\n",
       " array([8.44878402e-18, 0.00000000e+00]))"
      ]
     },
     "execution_count": 118,
     "metadata": {},
     "output_type": "execute_result"
    }
   ],
   "source": [
    "np.mean(U_tilde, axis = 1), np.mean(V_tilde, axis = 1)"
   ]
  },
  {
   "cell_type": "code",
   "execution_count": 117,
   "metadata": {
    "collapsed": false
   },
   "outputs": [
    {
     "data": {
      "text/plain": [
       "[<matplotlib.lines.Line2D at 0x114487550>]"
      ]
     },
     "execution_count": 117,
     "metadata": {},
     "output_type": "execute_result"
    },
    {
     "data": {
      "image/png": "[encoded data removed]",
      "text/plain": [
       "<matplotlib.figure.Figure at 0x115257710>"
      ]
     },
     "metadata": {},
     "output_type": "display_data"
    }
   ],
   "source": [
    "plt.plot(V_tilde[0], V_tilde[1], '.')"
   ]
  },
  {
   "cell_type": "code",
   "execution_count": 139,
   "metadata": {
    "collapsed": false
   },
   "outputs": [
    {
     "ename": "AttributeError",
     "evalue": "'numpy.ndarray' object has no attribute 'append'",
     "output_type": "error",
     "traceback": [
      "\u001b[0;31m---------------------------------------------------------------------------\u001b[0m",
      "\u001b[0;31mAttributeError\u001b[0m                            Traceback (most recent call last)",
      "\u001b[0;32m<ipython-input-139-a9dcc9c61c32>\u001b[0m in \u001b[0;36m<module>\u001b[0;34m()\u001b[0m\n\u001b[1;32m      1\u001b[0m \u001b[0mV_tilde_inds\u001b[0m \u001b[0;34m=\u001b[0m \u001b[0mV_tilde\u001b[0m\u001b[0;34m\u001b[0m\u001b[0m\n\u001b[0;32m----> 2\u001b[0;31m \u001b[0mV_tilde_inds\u001b[0m\u001b[0;34m.\u001b[0m\u001b[0mappend\u001b[0m\u001b[0;34m(\u001b[0m\u001b[0mlist\u001b[0m\u001b[0;34m(\u001b[0m\u001b[0mrange\u001b[0m\u001b[0;34m(\u001b[0m\u001b[0mV_tilde\u001b[0m\u001b[0;34m[\u001b[0m\u001b[0;36m0\u001b[0m\u001b[0;34m]\u001b[0m\u001b[0;34m)\u001b[0m\u001b[0;34m)\u001b[0m\u001b[0;34m)\u001b[0m\u001b[0;34m\u001b[0m\u001b[0m\n\u001b[0m",
      "\u001b[0;31mAttributeError\u001b[0m: 'numpy.ndarray' object has no attribute 'append'"
     ]
    }
   ],
   "source": [
    "V_tilde_inds = V_tilde\n",
    "V_tilde_inds.append(list(range(V_tilde[0])))"
   ]
  },
  {
   "cell_type": "code",
   "execution_count": 142,
   "metadata": {
    "collapsed": false
   },
   "outputs": [
    {
     "data": {
      "text/plain": [
       "array(['Toy Story (1995)', 'GoldenEye (1995)', 'Four Rooms (1995)', ...,\n",
       "       'Sliding Doors (1998)', 'You So Crazy (1994)',\n",
       "       'Scream of Stone (Schrei aus Stein) (1991)'], dtype='<U83')"
      ]
     },
     "execution_count": 142,
     "metadata": {},
     "output_type": "execute_result"
    }
   ],
   "source": [
    "movie_names = movies[:, 1]\n",
    "movie_names"
   ]
  },
  {
   "cell_type": "code",
   "execution_count": 152,
   "metadata": {
    "collapsed": false
   },
   "outputs": [
    {
     "data": {
      "text/plain": [
       "array(['Toy Story (1995)', 'GoldenEye (1995)', 'Four Rooms (1995)',\n",
       "       'Get Shorty (1995)', 'Copycat (1995)',\n",
       "       'Shanghai Triad (Yao a yao yao dao waipo qiao) (1995)',\n",
       "       'Twelve Monkeys (1995)', 'Babe (1995)', 'Dead Man Walking (1995)',\n",
       "       'Richard III (1995)'], dtype='<U83')"
      ]
     },
     "execution_count": 152,
     "metadata": {},
     "output_type": "execute_result"
    }
   ],
   "source": [
    "movie_names[idx_list]"
   ]
  },
  {
   "cell_type": "code",
   "execution_count": 163,
   "metadata": {
    "collapsed": false
   },
   "outputs": [
    {
     "data": {
      "image/png": "[encoded data removed]",
      "text/plain": [
       "<matplotlib.figure.Figure at 0x10c333908>"
      ]
     },
     "metadata": {},
     "output_type": "display_data"
    }
   ],
   "source": [
    "#Index list of points to plot\n",
    "idx_list = [x for x in range(1672, 1682)]\n",
    "\n",
    "\n",
    "#Getting x,y of these points\n",
    "position_list = V_tilde[:,idx_list]\n",
    "#Creating list of movie names\n",
    "name_list = movie_names[idx_list]\n",
    "\n",
    "#Plotting points\n",
    "plt.plot(position_list[0], position_list[1], '.')\n",
    "\n",
    "#Overlaying names of movies on plot\n",
    "for i, txt in enumerate(name_list):\n",
    "    plt.annotate(txt, (position_list[0, i], position_list[1, i]))"
   ]
  },
  {
   "cell_type": "code",
   "execution_count": 160,
   "metadata": {
    "collapsed": false
   },
   "outputs": [
    {
     "data": {
      "text/plain": [
       "(2, 1682)"
      ]
     },
     "execution_count": 160,
     "metadata": {},
     "output_type": "execute_result"
    }
   ],
   "source": [
    "V_tilde.shape"
   ]
  },
  {
   "cell_type": "code",
   "execution_count": 133,
   "metadata": {
    "collapsed": false
   },
   "outputs": [
    {
     "data": {
      "text/plain": [
       "['Toy Story (1995)',\n",
       " 'Scream of Stone (Schrei aus Stein) (1991)',\n",
       " 'You So Crazy (1994)',\n",
       " 'Sliding Doors (1998)',\n",
       " 'B. Monkey (1998)',\n",
       " \"Mat' i syn (1997)\",\n",
       " 'Sweet Nothing (1995)',\n",
       " '\"War at Home, The (1996)\"',\n",
       " '\"Sunchaser, The (1996)\"',\n",
       " 'Mamma Roma (1962)']"
      ]
     },
     "execution_count": 133,
     "metadata": {},
     "output_type": "execute_result"
    }
   ],
   "source": [
    "titles"
   ]
  },
  {
   "cell_type": "code",
   "execution_count": 176,
   "metadata": {
    "collapsed": false
   },
   "outputs": [
    {
     "data": {
      "image/png": "[encoded data removed]",
      "text/plain": [
       "<matplotlib.figure.Figure at 0x11bdb0a58>"
      ]
     },
     "metadata": {},
     "output_type": "display_data"
    }
   ],
   "source": [
    "movies_counts = np.zeros(len(ratings))\n",
    "for rating in ratings:\n",
    "    i = int(rating[1] - 1)\n",
    "    movies_counts[i] += 1\n",
    "    \n",
    "max_indexes = []\n",
    "for j in range(10):\n",
    "    i = np.argmax(movies_counts)\n",
    "    max_indexes.append([i, movies_counts[i]])\n",
    "    movies_counts[i] = 0\n",
    "\n",
    "inds = np.array(max_indexes).astype(int)[:,0]\n",
    "\n",
    "\n",
    "#Index list of points to plot\n",
    "idx_list = inds\n",
    "\n",
    "\n",
    "#Getting x,y of these points\n",
    "position_list = V_tilde[:,idx_list]\n",
    "#Creating list of movie names\n",
    "name_list = movie_names[idx_list]\n",
    "\n",
    "#Plotting points\n",
    "plt.plot(position_list[0], position_list[1], '.')\n",
    "\n",
    "#Overlaying names of movies on plot\n",
    "for i, txt in enumerate(name_list):\n",
    "    plt.annotate(txt, (position_list[0, i], position_list[1, i]))"
   ]
  },
  {
   "cell_type": "code",
   "execution_count": 180,
   "metadata": {
    "collapsed": false
   },
   "outputs": [
    {
     "data": {
      "image/png": "[encoded data removed]",
      "text/plain": [
       "<matplotlib.figure.Figure at 0x1197b0a20>"
      ]
     },
     "metadata": {},
     "output_type": "display_data"
    }
   ],
   "source": [
    "movies_counts = np.zeros(len(ratings))\n",
    "for rating in ratings:\n",
    "    i = int(rating[1] - 1)\n",
    "    movies_counts[i] += 1\n",
    "\n",
    "movies_ratings = np.zeros(len(ratings))\n",
    "for rating in ratings:\n",
    "    i = int(rating[1] - 1)\n",
    "    movies_ratings[i] += rating[2]\n",
    "    \n",
    "for i in range(len(movies_ratings)):\n",
    "    if movies_counts[i] != 0:\n",
    "        movies_ratings[i] /= float(movies_counts[i])\n",
    "\n",
    "max_indexes = []\n",
    "for j in range(10):\n",
    "    i = np.argmax(movies_ratings)\n",
    "    max_indexes.append([i, movies_ratings[i], int(movies_counts[i])])\n",
    "    movies_ratings[i] = 0\n",
    "\n",
    "for pt in max_indexes:\n",
    "    i = pt[0]\n",
    "    pt.append(movies[i][1])\n",
    "    pt[1] = int(pt[1])\n",
    "    \n",
    "    \n",
    "inds = np.array(max_indexes)[:,0]\n",
    "\n",
    "#Index list of points to plot\n",
    "idx_list = inds.astype(int)\n",
    "\n",
    "\n",
    "#Getting x,y of these points\n",
    "position_list = V_tilde[:,idx_list]\n",
    "#Creating list of movie names\n",
    "name_list = movie_names[idx_list]\n",
    "\n",
    "#Plotting points\n",
    "plt.plot(position_list[0], position_list[1], '.')\n",
    "\n",
    "#Overlaying names of movies on plot\n",
    "for i, txt in enumerate(name_list):\n",
    "    plt.annotate(txt, (position_list[0, i], position_list[1, i]))"
   ]
  },
  {
   "cell_type": "code",
   "execution_count": null,
   "metadata": {
    "collapsed": true
   },
   "outputs": [],
   "source": []
  },
  {
   "cell_type": "code",
   "execution_count": null,
   "metadata": {
    "collapsed": true
   },
   "outputs": [],
   "source": []
  },
  {
   "cell_type": "code",
   "execution_count": null,
   "metadata": {
    "collapsed": true
   },
   "outputs": [],
   "source": []
  },
  {
   "cell_type": "code",
   "execution_count": 206,
   "metadata": {
    "collapsed": false
   },
   "outputs": [
    {
     "data": {
      "image/png": "[encoded data removed]",
      "text/plain": [
       "<matplotlib.figure.Figure at 0x11aef8518>"
      ]
     },
     "metadata": {},
     "output_type": "display_data"
    }
   ],
   "source": [
    "movies_counts = np.zeros(len(ratings))\n",
    "for rating in ratings:\n",
    "    i = int(rating[1] - 1)\n",
    "    movies_counts[i] += 1\n",
    "    \n",
    "max_indexes = []\n",
    "for j in range(len(movies)):\n",
    "    i = np.argmax(movies_counts)\n",
    "    max_indexes.append([i, movies_counts[i]])\n",
    "    movies_counts[i] = 0\n",
    "    \n",
    "    \n",
    "max_comedies = []\n",
    "for pt in max_indexes:\n",
    "    is_comedy = int(movies[pt[0]][7])\n",
    "    if is_comedy == 1:\n",
    "        max_comedies.append(pt)\n",
    "    \n",
    "    if len(max_comedies) == 10:\n",
    "        break\n",
    "        \n",
    "max_dramas = []\n",
    "for pt in max_indexes:\n",
    "    is_drama = int(movies[pt[0]][10])\n",
    "    if is_drama == 1:\n",
    "        max_dramas.append(pt)\n",
    "    \n",
    "    if len(max_dramas) == 10:\n",
    "        break\n",
    "        \n",
    "max_docs = []\n",
    "for pt in max_indexes:\n",
    "    is_doc = int(movies[pt[0]][9])\n",
    "    if is_doc == 1:\n",
    "        max_docs.append(pt)\n",
    "    \n",
    "    if len(max_docs) == 10:\n",
    "        break\n",
    "        \n",
    "inds = list(np.array(max_comedies)[:,0].astype(int)) + list(np.array(max_dramas)[:,0].astype(int)) + list(np.array(max_docs)[:,0].astype(int))\n",
    "\n",
    "#Index list of points to plot\n",
    "idx_list = inds\n",
    "\n",
    "\n",
    "#Getting x,y of these points\n",
    "position_list = V_tilde[:,idx_list]\n",
    "#Creating list of movie names\n",
    "name_list = movie_names[idx_list]\n",
    "\n",
    "#Plotting points\n",
    "plt.plot(position_list[0], position_list[1], '.')\n",
    "\n",
    "#Overlaying names of movies on plot\n",
    "for i, txt in enumerate(name_list):\n",
    "    plt.annotate(txt, (position_list[0, i], position_list[1, i]), fontsize = 2)\n",
    "\n",
    "plt.savefig('three_genres.png', dpi = 1200)\n",
    "    "
   ]
  },
  {
   "cell_type": "code",
   "execution_count": 201,
   "metadata": {
    "collapsed": false
   },
   "outputs": [
    {
     "data": {
      "text/plain": [
       "30"
      ]
     },
     "execution_count": 201,
     "metadata": {},
     "output_type": "execute_result"
    }
   ],
   "source": [
    "len(inds)"
   ]
  },
  {
   "cell_type": "code",
   "execution_count": null,
   "metadata": {
    "collapsed": true
   },
   "outputs": [],
   "source": []
  }
 ],
 "metadata": {
  "kernelspec": {
   "display_name": "Python 3",
   "language": "python",
   "name": "python3"
  },
  "language_info": {
   "codemirror_mode": {
    "name": "ipython",
    "version": 3
   },
   "file_extension": ".py",
   "mimetype": "text/x-python",
   "name": "python",
   "nbconvert_exporter": "python",
   "pygments_lexer": "ipython3",
   "version": "3.6.0"
  }
 },
 "nbformat": 4,
 "nbformat_minor": 2
}
