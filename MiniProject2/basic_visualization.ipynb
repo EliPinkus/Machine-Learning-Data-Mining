{
 "cells": [
  {
   "cell_type": "code",
   "execution_count": 1,
   "metadata": {
    "collapsed": false
   },
   "outputs": [],
   "source": [
    "import numpy as np\n",
    "import matplotlib.pyplot as plt\n",
    "%matplotlib inline\n",
    "ratings = np.loadtxt('data/data.txt')\n",
    "movies = np.loadtxt('data/movies.txt', encoding = 'latin-1', dtype = str, delimiter = '\\t')"
   ]
  },
  {
   "cell_type": "code",
   "execution_count": null,
   "metadata": {
    "collapsed": false
   },
   "outputs": [],
   "source": []
  },
  {
   "cell_type": "code",
   "execution_count": 2,
   "metadata": {
    "collapsed": false
   },
   "outputs": [],
   "source": [
    "stars = [pt[2] for pt in ratings]"
   ]
  },
  {
   "cell_type": "code",
   "execution_count": 3,
   "metadata": {
    "collapsed": false
   },
   "outputs": [
    {
     "data": {
      "image/png": "[encoded data removed]",
      "text/plain": [
       "<matplotlib.figure.Figure at 0x10ba540f0>"
      ]
     },
     "metadata": {},
     "output_type": "display_data"
    }
   ],
   "source": [
    "# plot histogram of all ratings\n",
    "plt.hist(stars, bins = 5)\n",
    "plt.xlabel('Stars')\n",
    "plt.ylabel('Frequency')\n",
    "plt.title('Distribution of All Ratings')\n",
    "\n",
    "plt.savefig('figures/basic_1.png', dpi = 400)"
   ]
  },
  {
   "cell_type": "code",
   "execution_count": 15,
   "metadata": {
    "collapsed": false
   },
   "outputs": [
    {
     "data": {
      "text/plain": [
       "array([3.87831858, 3.20610687, 3.03333333, ..., 0.        , 0.        ,\n",
       "       0.        ])"
      ]
     },
     "execution_count": 15,
     "metadata": {},
     "output_type": "execute_result"
    }
   ],
   "source": [
    "# find most popular movies\n",
    "movies_counts = np.zeros(len(ratings))\n",
    "for rating in ratings:\n",
    "    i = int(rating[1] - 1)\n",
    "    movies_counts[i] += 1\n",
    "    \n",
    "max_indexes = []\n",
    "for j in range(10):\n",
    "    i = np.argmax(movies_counts)\n",
    "    max_indexes.append([i, movies_counts[i]])\n",
    "    movies_counts[i] = 0\n",
    "\n",
    "movies_counts = np.zeros(len(ratings))\n",
    "for rating in ratings:\n",
    "    i = int(rating[1] - 1)\n",
    "    movies_counts[i] += 1\n",
    "    \n",
    "movies_ratings = np.zeros(len(ratings))\n",
    "for rating in ratings:\n",
    "    i = int(rating[1] - 1)\n",
    "    movies_ratings[i] += float(rating[2])\n",
    "    \n",
    "for i in range(len(movies_ratings)):\n",
    "    if movies_counts[i] != 0:\n",
    "        movies_ratings[i] = float(movies_ratings[i]) / float(movies_counts[i])\n",
    "movies_ratings"
   ]
  },
  {
   "cell_type": "code",
   "execution_count": 16,
   "metadata": {
    "collapsed": false
   },
   "outputs": [
    {
     "data": {
      "text/plain": [
       "[[49, 583.0],\n",
       " [257, 509.0],\n",
       " [99, 508.0],\n",
       " [180, 507.0],\n",
       " [293, 485.0],\n",
       " [285, 481.0],\n",
       " [287, 478.0],\n",
       " [0, 452.0],\n",
       " [299, 431.0],\n",
       " [120, 429.0]]"
      ]
     },
     "execution_count": 16,
     "metadata": {},
     "output_type": "execute_result"
    }
   ],
   "source": [
    "max_indexes"
   ]
  },
  {
   "cell_type": "code",
   "execution_count": 17,
   "metadata": {
    "collapsed": true
   },
   "outputs": [],
   "source": [
    "# append titles\n",
    "for pt in max_indexes:\n",
    "    i = pt[0]\n",
    "    pt.append(movies[i][1])\n",
    "    pt.append(movies[i][0])\n",
    "    pt[1] = int(pt[1])"
   ]
  },
  {
   "cell_type": "code",
   "execution_count": 18,
   "metadata": {
    "collapsed": false
   },
   "outputs": [
    {
     "data": {
      "image/png": "[encoded data removed]",
      "text/plain": [
       "<matplotlib.figure.Figure at 0x10ba0d860>"
      ]
     },
     "metadata": {},
     "output_type": "display_data"
    }
   ],
   "source": [
    "# bar graph\n",
    "ind = range(10)\n",
    "width = .6\n",
    "titles = [pt[2][:4] for pt in max_indexes]\n",
    "full_titles = [pt[2] for pt in max_indexes]\n",
    "num_ratings = [pt[1] for pt in max_indexes]\n",
    "\n",
    "plt.bar(ind, num_ratings, width, color = 'b')\n",
    "plt.xticks(ind,titles)\n",
    "plt.ylim(300,600)\n",
    "plt.ylabel('Number of Reviews')\n",
    "plt.savefig('figures/basic_2.png', dpi = 400)"
   ]
  },
  {
   "cell_type": "code",
   "execution_count": 20,
   "metadata": {
    "collapsed": false
   },
   "outputs": [
    {
     "name": "stdout",
     "output_type": "stream",
     "text": [
      "Star Wars (1977)\n",
      "Contact (1997)\n",
      "Fargo (1996)\n",
      "Return of the Jedi (1983)\n",
      "Liar Liar (1997)\n",
      "\"English Patient, The (1996)\"\n",
      "Scream (1996)\n",
      "Toy Story (1995)\n",
      "Air Force One (1997)\n",
      "Independence Day (ID4) (1996)\n"
     ]
    }
   ],
   "source": [
    "for pt in full_titles:\n",
    "    print(pt)"
   ]
  },
  {
   "cell_type": "code",
   "execution_count": 8,
   "metadata": {
    "collapsed": false
   },
   "outputs": [],
   "source": [
    "pop_ratings = []\n",
    "inds = [pt[0] for pt in max_indexes]\n",
    "for rating in ratings:\n",
    "    if int(rating[1]) - 1 in inds:\n",
    "        pop_ratings.append(int(rating[2]))"
   ]
  },
  {
   "cell_type": "code",
   "execution_count": 9,
   "metadata": {
    "collapsed": false
   },
   "outputs": [
    {
     "data": {
      "image/png": "[encoded data removed]",
      "text/plain": [
       "<matplotlib.figure.Figure at 0x10bdc3dd8>"
      ]
     },
     "metadata": {},
     "output_type": "display_data"
    }
   ],
   "source": [
    "plt.hist(pop_ratings, bins = 5)\n",
    "plt.title('Distribution of 10 Most Popular Movies')\n",
    "plt.xlabel('Stars')\n",
    "plt.ylabel('frequency')\n",
    "plt.savefig('figures/basic_2-1.png', dpi = 400)"
   ]
  },
  {
   "cell_type": "code",
   "execution_count": 122,
   "metadata": {
    "collapsed": false
   },
   "outputs": [],
   "source": [
    "movies_counts = np.zeros(len(ratings))\n",
    "for rating in ratings:\n",
    "    i = int(rating[1] - 1)\n",
    "    movies_counts[i] += 1\n",
    "\n",
    "movies_ratings = np.zeros(len(ratings))\n",
    "for rating in ratings:\n",
    "    i = int(rating[1] - 1)\n",
    "    movies_ratings[i] += float(rating[2])\n",
    "    \n",
    "for i in range(len(movies_ratings)):\n",
    "    if movies_counts[i] != 0:\n",
    "        movies_ratings[i] = float(movies_ratings[i]) / float(movies_counts[i])\n",
    "\n",
    "max_indexes = []\n",
    "for j in range(10):\n",
    "    i = np.argmax(movies_ratings)\n",
    "    max_indexes.append([i, movies_ratings[i], int(movies_counts[i])])\n",
    "    movies_ratings[i] = 0\n",
    "\n",
    "movies_ratings = np.zeros(len(ratings))\n",
    "for rating in ratings:\n",
    "    i = int(rating[1] - 1)\n",
    "    movies_ratings[i] += float(rating[2])\n",
    "    \n",
    "for i in range(len(movies_ratings)):\n",
    "    if movies_counts[i] != 0:\n",
    "        movies_ratings[i] = float(movies_ratings[i]) / float(movies_counts[i])    \n",
    "    \n",
    "for pt in max_indexes:\n",
    "    i = pt[0]\n",
    "    pt.append(movies[i][1])\n",
    "    pt[1] = pt[1]"
   ]
  },
  {
   "cell_type": "code",
   "execution_count": 130,
   "metadata": {
    "collapsed": false
   },
   "outputs": [
    {
     "data": {
      "image/png": "[encoded data removed]",
      "text/plain": [
       "<matplotlib.figure.Figure at 0x111a7f0b8>"
      ]
     },
     "metadata": {},
     "output_type": "display_data"
    }
   ],
   "source": [
    "avs = []\n",
    "for pt in max_indexes:\n",
    "    avs.append(movies_ratings[int(pt[0])])\n",
    "    \n",
    "plt.hist(avs, bins = 5)\n",
    "plt.xlim(1,6)\n",
    "plt.xlabel('Stars')\n",
    "plt.ylabel('frequency')\n",
    "plt.title('distribution of Highest rated movies')\n",
    "\n",
    "plt.savefig('figures/basic_3.png', dpi = 400)"
   ]
  },
  {
   "cell_type": "code",
   "execution_count": 12,
   "metadata": {
    "collapsed": true
   },
   "outputs": [],
   "source": [
    "comedy_ratings = []\n",
    "for rating in ratings:\n",
    "    movie_ind = int(rating[1]) - 1\n",
    "    movie_info = movies[movie_ind]\n",
    "    if int(movie_info[7]) == 1:\n",
    "        comedy_ratings.append(rating[2])"
   ]
  },
  {
   "cell_type": "code",
   "execution_count": 13,
   "metadata": {
    "collapsed": false
   },
   "outputs": [
    {
     "data": {
      "image/png": "[encoded data removed]",
      "text/plain": [
       "<matplotlib.figure.Figure at 0x10f3e8908>"
      ]
     },
     "metadata": {},
     "output_type": "display_data"
    }
   ],
   "source": [
    "plt.hist(comedy_ratings, bins = 5)\n",
    "plt.title('Distribution of Comedy Ratings')\n",
    "plt.xlabel('Stars')\n",
    "plt.ylabel('Frequency')\n",
    "plt.savefig('figures/basic_4.png', dpi = 400)\n"
   ]
  },
  {
   "cell_type": "code",
   "execution_count": 14,
   "metadata": {
    "collapsed": true
   },
   "outputs": [],
   "source": [
    "drama_ratings = []\n",
    "for rating in ratings:\n",
    "    movie_ind = int(rating[1]) - 1\n",
    "    movie_info = movies[movie_ind]\n",
    "    if int(movie_info[10]) == 1:\n",
    "        drama_ratings.append(rating[2])"
   ]
  },
  {
   "cell_type": "code",
   "execution_count": 15,
   "metadata": {
    "collapsed": false
   },
   "outputs": [
    {
     "data": {
      "image/png": "[encoded data removed]",
      "text/plain": [
       "<matplotlib.figure.Figure at 0x10f4dc978>"
      ]
     },
     "metadata": {},
     "output_type": "display_data"
    }
   ],
   "source": [
    "plt.hist(drama_ratings, bins = 5)\n",
    "plt.title('Distribution of Drama Ratings')\n",
    "plt.xlabel('Stars')\n",
    "plt.ylabel('Frequency')\n",
    "plt.savefig('figures/basic_4-1.png', dpi = 400)"
   ]
  },
  {
   "cell_type": "code",
   "execution_count": 16,
   "metadata": {
    "collapsed": true
   },
   "outputs": [],
   "source": [
    "doc_ratings = []\n",
    "for rating in ratings:\n",
    "    movie_ind = int(rating[1]) - 1\n",
    "    movie_info = movies[movie_ind]\n",
    "    if int(movie_info[9]) == 1:\n",
    "        doc_ratings.append(rating[2])"
   ]
  },
  {
   "cell_type": "code",
   "execution_count": 17,
   "metadata": {
    "collapsed": false
   },
   "outputs": [
    {
     "data": {
      "image/png": "[encoded data removed]",
      "text/plain": [
       "<matplotlib.figure.Figure at 0x10f3e8668>"
      ]
     },
     "metadata": {},
     "output_type": "display_data"
    }
   ],
   "source": [
    "plt.hist(doc_ratings, bins = 5)\n",
    "plt.title('Distribution of Documentary Ratings')\n",
    "plt.xlabel('Stars')\n",
    "plt.ylabel('Frequency')\n",
    "plt.savefig('figures/basic_4-2.png', dpi = 400)"
   ]
  },
  {
   "cell_type": "code",
   "execution_count": null,
   "metadata": {
    "collapsed": true
   },
   "outputs": [],
   "source": []
  }
 ],
 "metadata": {
  "kernelspec": {
   "display_name": "Python 3",
   "language": "python",
   "name": "python3"
  },
  "language_info": {
   "codemirror_mode": {
    "name": "ipython",
    "version": 3
   },
   "file_extension": ".py",
   "mimetype": "text/x-python",
   "name": "python",
   "nbconvert_exporter": "python",
   "pygments_lexer": "ipython3",
   "version": "3.6.0"
  }
 },
 "nbformat": 4,
 "nbformat_minor": 2
}
