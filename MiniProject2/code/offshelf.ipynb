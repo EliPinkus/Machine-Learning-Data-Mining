{
 "cells": [
  {
   "cell_type": "code",
   "execution_count": 28,
   "metadata": {
    "collapsed": false
   },
   "outputs": [],
   "source": [
    "import numpy as np\n",
    "from scipy.sparse import csr_matrix as csr\n",
    "from sklearn.decomposition import NMF\n",
    "Y_train = np.loadtxt('data/train.txt').astype(int)\n",
    "Y_test = np.loadtxt('data/test.txt').astype(int)\n",
    "ratings = np.loadtxt('data/data.txt').astype(int)\n",
    "from prob2utils import get_err\n",
    "movies = np.loadtxt('data/movies.txt', encoding = 'latin-1', dtype = str, delimiter = '\\t')\n",
    "import matplotlib.pyplot as plt\n",
    "%matplotlib inline\n",
    "import itertools\n"
   ]
  },
  {
   "cell_type": "code",
   "execution_count": 29,
   "metadata": {
    "collapsed": false
   },
   "outputs": [],
   "source": [
    "# deduce M and N from data\n",
    "M = max(max(Y_train[:,0]), max(Y_test[:,0])).astype(int)  # users# num of movies in data\n",
    "N = max(max(Y_train[:,1]), max(Y_test[:,1])).astype(int) # movies\n",
    "Y = np.array([[0.0 for j in range(N)] for i in range(M)])\n",
    "K = 20\n",
    "\n",
    "# populate full Y matrix\n",
    "for pt in Y_train:\n",
    "    Y[int(pt[0]) -1, int(pt[1]) -1] = pt[2]\n",
    "\n",
    "# initialize empty entries to average of the row\n",
    "averages = []\n",
    "for i in range(M):\n",
    "    averages.append(np.mean(Y[i]))\n",
    "    \n",
    "for i in range(M):\n",
    "    for j in range(N):\n",
    "        if Y[i, j] == 0.0:\n",
    "            Y[i, j] = averages[i]"
   ]
  },
  {
   "cell_type": "code",
   "execution_count": 30,
   "metadata": {
    "collapsed": false
   },
   "outputs": [],
   "source": [
    "# use NMF to get U and V\n",
    "model = NMF(n_components = K, init = 'random', random_state = 0, shuffle = True)\n",
    "U = model.fit_transform(Y)\n",
    "V = model.components_"
   ]
  },
  {
   "cell_type": "code",
   "execution_count": 36,
   "metadata": {
    "collapsed": false
   },
   "outputs": [
    {
     "data": {
      "text/plain": [
       "((943, 20), (20, 1682))"
      ]
     },
     "execution_count": 36,
     "metadata": {},
     "output_type": "execute_result"
    }
   ],
   "source": [
    "U.shape, V.shape"
   ]
  },
  {
   "cell_type": "code",
   "execution_count": 37,
   "metadata": {
    "collapsed": false
   },
   "outputs": [
    {
     "name": "stdout",
     "output_type": "stream",
     "text": [
      "Training Error\n"
     ]
    },
    {
     "data": {
      "text/plain": [
       "2.2651893231041837"
      ]
     },
     "execution_count": 37,
     "metadata": {},
     "output_type": "execute_result"
    }
   ],
   "source": [
    "print('Training Error')\n",
    "get_err(U,V.transpose(),Y_train)"
   ]
  },
  {
   "cell_type": "code",
   "execution_count": 38,
   "metadata": {
    "collapsed": false
   },
   "outputs": [
    {
     "name": "stdout",
     "output_type": "stream",
     "text": [
      "Testing Error\n"
     ]
    },
    {
     "data": {
      "text/plain": [
       "2.6413290217088976"
      ]
     },
     "execution_count": 38,
     "metadata": {},
     "output_type": "execute_result"
    }
   ],
   "source": [
    "print('Testing Error')\n",
    "get_err(U,V.transpose(),Y_test)"
   ]
  },
  {
   "cell_type": "code",
   "execution_count": null,
   "metadata": {
    "collapsed": true
   },
   "outputs": [],
   "source": []
  }
 ],
 "metadata": {
  "kernelspec": {
   "display_name": "Python 3",
   "language": "python",
   "name": "python3"
  },
  "language_info": {
   "codemirror_mode": {
    "name": "ipython",
    "version": 3
   },
   "file_extension": ".py",
   "mimetype": "text/x-python",
   "name": "python",
   "nbconvert_exporter": "python",
   "pygments_lexer": "ipython3",
   "version": "3.6.0"
  }
 },
 "nbformat": 4,
 "nbformat_minor": 2
}
